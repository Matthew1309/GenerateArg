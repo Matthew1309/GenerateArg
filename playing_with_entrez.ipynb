{
 "cells": [
  {
   "cell_type": "code",
   "execution_count": 3,
   "id": "3b10ab23-a3ab-4223-8fe8-d695c77ef8bd",
   "metadata": {},
   "outputs": [
    {
     "name": "stdout",
     "output_type": "stream",
     "text": [
      "Going to download record 1 to 10\n",
      "done\n"
     ]
    }
   ],
   "source": [
    "from Bio import Entrez\n",
    "from time import time\n",
    "\n",
    "Entrez.email = \"mkozubov@ucsc.edu\"\n",
    "Entrez.api_key = \"f04c287f2ffac28f06731ba0da09377ec508\"\n",
    "\n",
    "# Get Enterobacterales txid [esearch]\n",
    "entero_handle = Entrez.esearch(db='nucleotide', term='Enterobacterales',usehistory='y',idtype='acc') #xml handle\n",
    "entero_record = Entrez.read(entero_handle)\n",
    "\n",
    "entero_txid = entero_record['IdList'][0]\n",
    "entero_search = f'txid{entero_txid}[Organism]'\n",
    "entero_handle.close()\n",
    "\n",
    "# Make variables useful in batch searching eFetch\n",
    "count = 10#int(entero_record['Count']) # For use in batch searching, number of records found\n",
    "trueCount = int(entero_record['Count'])\n",
    "webenv = entero_record['WebEnv'] \n",
    "query_key = entero_record['QueryKey']\n",
    "\n",
    "# Query Genome db using Enterobacterales txid [esearch]\n",
    "batch_size = 10\n",
    "out_handle = open(\"entero.fasta\", \"w\")\n",
    "for start in range(0, count, batch_size):\n",
    "    end = min(count, start + batch_size)\n",
    "    print(\"Going to download record %i to %i\" % (start + 1, end))\n",
    "    fetch_handle = Entrez.efetch(\n",
    "        db=\"nucleotide\",\n",
    "        rettype='fasta',\n",
    "        retmode=\"text\",\n",
    "        retstart=start,\n",
    "        retmax=batch_size,\n",
    "        webenv=webenv,\n",
    "        query_key=query_key,\n",
    "        idtype=\"acc\",\n",
    "    )\n",
    "    data = fetch_handle.read()\n",
    "    fetch_handle.close()\n",
    "    out_handle.write(data)\n",
    "out_handle.close()\n",
    "print('done')"
   ]
  },
  {
   "cell_type": "code",
   "execution_count": 118,
   "id": "3ff676fb-3c41-4683-9b93-7521708fff9d",
   "metadata": {},
   "outputs": [
    {
     "name": "stdout",
     "output_type": "stream",
     "text": [
      "104601 MCID_61391dde5fe2632ecd04e17f 1 688\n"
     ]
    }
   ],
   "source": [
    "print(entero_txid, webenv, query_key, count)"
   ]
  },
  {
   "cell_type": "code",
   "execution_count": 4,
   "id": "b071c958-2be9-4312-84c5-9ed911372c39",
   "metadata": {},
   "outputs": [
    {
     "data": {
      "text/plain": [
       "{'Count': '20444551', 'RetMax': '20', 'RetStart': '0', 'QueryKey': '1', 'WebEnv': 'MCID_6139227c54d30e7be8230e6f', 'IdList': ['JAINTK000000000.1', 'JAINTJ000000000.1', 'JAINTH000000000.1', 'JAINTI000000000.1', 'JAINTF000000000.1', 'JAINTE000000000.1', 'JAINTG000000000.1', 'JAINTD000000000.1', 'JAINTC000000000.1', 'JAINSX000000000.1', 'JAINTB000000000.1', 'JAINSZ000000000.1', 'JAINTA000000000.1', 'JAINSY000000000.1', 'JAINST000000000.1', 'JAINSS000000000.1', 'JAINSQ000000000.1', 'JAINSU000000000.1', 'JAINSV000000000.1', 'JAINSW000000000.1'], 'TranslationSet': [{'From': 'Enterobacterales', 'To': '\"Enterobacterales\"[Organism] OR Enterobacterales[All Fields]'}], 'TranslationStack': [{'Term': '\"Enterobacterales\"[Organism]', 'Field': 'Organism', 'Count': '20440102', 'Explode': 'Y'}, {'Term': 'Enterobacterales[All Fields]', 'Field': 'All Fields', 'Count': '89086', 'Explode': 'N'}, 'OR', 'GROUP'], 'QueryTranslation': '\"Enterobacterales\"[Organism] OR Enterobacterales[All Fields]'}"
      ]
     },
     "execution_count": 4,
     "metadata": {},
     "output_type": "execute_result"
    }
   ],
   "source": [
    "entero_record"
   ]
  },
  {
   "cell_type": "code",
   "execution_count": 11,
   "id": "86b91998-8c2c-46bd-9520-a8ca16acb405",
   "metadata": {
    "collapsed": true,
    "jupyter": {
     "outputs_hidden": true
    },
    "tags": []
   },
   "outputs": [
    {
     "name": "stdout",
     "output_type": "stream",
     "text": [
      "GBSeq_locus JAINTK010000000\n",
      "GBSeq_length 173\n",
      "GBSeq_strandedness double\n",
      "GBSeq_moltype DNA\n",
      "GBSeq_topology linear\n",
      "GBSeq_division BCT\n",
      "GBSeq_update-date 04-SEP-2021\n",
      "GBSeq_create-date 04-SEP-2021\n",
      "GBSeq_definition Escherichia coli strain R133-2, whole genome shotgun sequencing project\n",
      "GBSeq_primary-accession JAINTK000000000\n",
      "GBSeq_accession-version JAINTK000000000.1\n",
      "GBSeq_other-seqids ['gb|JAINTK000000000.1|JAINTK010000000', 'gi|2089990655']\n",
      "GBSeq_project PRJNA735322\n",
      "GBSeq_keywords ['WGS']\n",
      "GBSeq_source Escherichia coli\n",
      "GBSeq_organism Escherichia coli\n",
      "GBSeq_taxonomy Bacteria; Proteobacteria; Gammaproteobacteria; Enterobacterales; Enterobacteriaceae; Escherichia\n",
      "GBSeq_references [{'GBReference_reference': '1', 'GBReference_position': '1..173', 'GBReference_authors': ['Cui,C.'], 'GBReference_title': 'Plasmid-mediated tet(X4)-positive Escherichia coli isolates from clinical settings', 'GBReference_journal': 'Unpublished'}, {'GBReference_reference': '2', 'GBReference_position': '1..173', 'GBReference_authors': ['Cui,C.'], 'GBReference_title': 'Direct Submission', 'GBReference_journal': 'Submitted (26-AUG-2021) College of Veterinary Medicine, South China Agricultural University, 483 Wushan Street, Guangzhou 510642, China'}]\n",
      "GBSeq_comment The Escherichia coli whole genome shotgun (WGS) project has the project accession JAINTK000000000. This version of the project (01) has the accession number JAINTK010000000, and consists of sequences JAINTK010000001-JAINTK010000173.; The annotation was added by the NCBI Prokaryotic Genome Annotation Pipeline (PGAP). Information about PGAP can be found here: https://www.ncbi.nlm.nih.gov/genome/annotation_prok/; ; ##Genome-Assembly-Data-START## ; Assembly Method :: SPAdes v. 3.6.2 ; Genome Representation :: Full ; Expected Final Version :: Yes ; Genome Coverage :: 100x ; Sequencing Technology :: Illumina HiSeq ; ##Genome-Assembly-Data-END##; ; ##Genome-Annotation-Data-START## ; Annotation Provider :: NCBI ; Annotation Date :: 08/30/2021 16:55:39 ; Annotation Pipeline :: NCBI Prokaryotic Genome Annotation Pipeline (PGAP) ; Annotation Method :: Best-placed reference protein set; GeneMarkS-2+ ; Annotation Software revision :: 5.2 ; Features Annotated :: Gene; CDS; rRNA; tRNA; ncRNA; repeat_region ; Genes (total) :: 5,546 ; CDSs (total) :: 5,434 ; Genes (coding) :: 5,175 ; CDSs (with protein) :: 5,175 ; Genes (RNA) :: 112 ; rRNAs :: 8, 4, 3 (5S, 16S, 23S) ; complete rRNAs :: 6 (5S) ; partial rRNAs :: 2, 4, 3 (5S, 16S, 23S) ; tRNAs :: 89 ; ncRNAs :: 8 ; Pseudo Genes (total) :: 259 ; CDSs (without protein) :: 259 ; Pseudo Genes (ambiguous residues) :: 0 of 259 ; Pseudo Genes (frameshifted) :: 105 of 259 ; Pseudo Genes (incomplete) :: 141 of 259 ; Pseudo Genes (internal stop) :: 61 of 259 ; Pseudo Genes (multiple problems) :: 41 of 259 ; CRISPR Arrays :: 2 ; ##Genome-Annotation-Data-END##\n",
      "GBSeq_feature-table [{'GBFeature_key': 'source', 'GBFeature_location': '1..173', 'GBFeature_intervals': [{'GBInterval_from': '1', 'GBInterval_to': '173', 'GBInterval_accession': 'JAINTK000000000.1'}], 'GBFeature_quals': [{'GBQualifier_name': 'organism', 'GBQualifier_value': 'Escherichia coli'}, {'GBQualifier_name': 'mol_type', 'GBQualifier_value': 'genomic DNA'}, {'GBQualifier_name': 'strain', 'GBQualifier_value': 'R133-2'}, {'GBQualifier_name': 'isolation_source', 'GBQualifier_value': 'stool'}, {'GBQualifier_name': 'host', 'GBQualifier_value': 'Homo sapiens'}, {'GBQualifier_name': 'db_xref', 'GBQualifier_value': 'taxon:562'}, {'GBQualifier_name': 'country', 'GBQualifier_value': 'China: Guangzhou City, Guangdong Province'}, {'GBQualifier_name': 'collection_date', 'GBQualifier_value': '2019-09'}]}]\n",
      "GBSeq_alt-seq [{'GBAltSeqData_name': 'WGS', 'GBAltSeqData_items': [{'GBAltSeqItem_first-accn': 'JAINTK010000001', 'GBAltSeqItem_last-accn': 'JAINTK010000173'}]}]\n",
      "GBSeq_xrefs [{'GBXref_dbname': 'BioProject', 'GBXref_id': 'PRJNA735322'}, {'GBXref_dbname': 'BioSample', 'GBXref_id': 'SAMN19575502'}]\n"
     ]
    }
   ],
   "source": [
    "fetch_handle = Entrez.efetch(db='nucleotide', id='JAINTK000000000.1', rettype='text')\n",
    "records = Entrez.read(fetch_handle)[0]\n",
    "\n",
    "for key, value in records.items():\n",
    "    print(key, value)"
   ]
  },
  {
   "cell_type": "code",
   "execution_count": 80,
   "id": "7a64242c-edd5-411d-9108-5e4cd34ecf0f",
   "metadata": {
    "scrolled": true,
    "tags": []
   },
   "outputs": [
    {
     "name": "stdout",
     "output_type": "stream",
     "text": [
      "DocumentSummary {'uid': '735322'}\n"
     ]
    }
   ],
   "source": [
    "from io import BytesIO\n",
    "import xml.etree.ElementTree as ET\n",
    "\n",
    "# Get project name\n",
    "project_handle = Entrez.efetch(db='nucleotide', id='JAINTK000000000.1', rettype='text')\n",
    "project_record = Entrez.read(project_handle)[0]['GBSeq_project']\n",
    "\n",
    "project_record\n",
    "\n",
    "# Search bioproject db for relevant info\n",
    "bioproject_handle = Entrez.efetch(db='bioproject', id=project_record, retmode='xml')\n",
    "tree = ET.parse(bioproject_handle)\n",
    "bioproject_record = tree.getroot()\n",
    "\n",
    "for child in bioproject_record:\n",
    "    print(child.tag, child.attrib)\n"
   ]
  },
  {
   "cell_type": "code",
   "execution_count": 73,
   "id": "a75ebc28-dc79-405c-a4da-c5cbba755e6b",
   "metadata": {},
   "outputs": [
    {
     "data": {
      "text/plain": [
       "b'<?xml version=\"1.0\" encoding=\"UTF-8\"  ?>\\n<!DOCTYPE GBSet PUBLIC \"-//NCBI//NCBI GBSeq/EN\" \"https://www.ncbi.nlm.nih.gov/dtd/NCBI_GBSeq.dtd\">\\n<GBSet>\\n  <GBSeq>\\n\\n    <GBSeq_locus>JAINTK010000000</GBSeq_locus>\\n    <GBSeq_length>173</GBSeq_length>\\n    <GBSeq_strandedness>double</GBSeq_strandedness>\\n    <GBSeq_moltype>DNA</GBSeq_moltype>\\n    <GBSeq_topology>linear</GBSeq_topology>\\n    <GBSeq_division>BCT</GBSeq_division>\\n    <GBSeq_update-date>04-SEP-2021</GBSeq_update-date>\\n    <GBSeq_create-date>04-SEP-2021</GBSeq_create-date>\\n    <GBSeq_definition>Escherichia coli strain R133-2, whole genome shotgun sequencing project</GBSeq_definition>\\n    <GBSeq_primary-accession>JAINTK000000000</GBSeq_primary-accession>\\n    <GBSeq_accession-version>JAINTK000000000.1</GBSeq_accession-version>\\n    <GBSeq_other-seqids>\\n      <GBSeqid>gb|JAINTK000000000.1|JAINTK010000000</GBSeqid>\\n      <GBSeqid>gi|2089990655</GBSeqid>\\n    </GBSeq_other-seqids>\\n    <GBSeq_project>PRJNA735322</GBSeq_project>\\n    <GBSeq_keywords>\\n      <GBKeyword>WGS</GBKeyword>\\n    </GBSeq_keywords>\\n    <GBSeq_source>Escherichia coli</GBSeq_source>\\n    <GBSeq_organism>Escherichia coli</GBSeq_organism>\\n    <GBSeq_taxonomy>Bacteria; Proteobacteria; Gammaproteobacteria; Enterobacterales; Enterobacteriaceae; Escherichia</GBSeq_taxonomy>\\n    <GBSeq_references>\\n      <GBReference>\\n        <GBReference_reference>1</GBReference_reference>\\n        <GBReference_position>1..173</GBReference_position>\\n        <GBReference_authors>\\n          <GBAuthor>Cui,C.</GBAuthor>\\n        </GBReference_authors>\\n        <GBReference_title>Plasmid-mediated tet(X4)-positive Escherichia coli isolates from clinical settings</GBReference_title>\\n        <GBReference_journal>Unpublished</GBReference_journal>\\n      </GBReference>\\n      <GBReference>\\n        <GBReference_reference>2</GBReference_reference>\\n        <GBReference_position>1..173</GBReference_position>\\n        <GBReference_authors>\\n          <GBAuthor>Cui,C.</GBAuthor>\\n        </GBReference_authors>\\n        <GBReference_title>Direct Submission</GBReference_title>\\n        <GBReference_journal>Submitted (26-AUG-2021) College of Veterinary Medicine, South China Agricultural University, 483 Wushan Street, Guangzhou 510642, China</GBReference_journal>\\n      </GBReference>\\n    </GBSeq_references>\\n    <GBSeq_comment>The Escherichia coli whole genome shotgun (WGS) project has the project accession JAINTK000000000. This version of the project (01) has the accession number JAINTK010000000, and consists of sequences JAINTK010000001-JAINTK010000173.; The annotation was added by the NCBI Prokaryotic Genome Annotation Pipeline (PGAP). Information about PGAP can be found here: https://www.ncbi.nlm.nih.gov/genome/annotation_prok/; ; ##Genome-Assembly-Data-START## ; Assembly Method :: SPAdes v. 3.6.2 ; Genome Representation :: Full ; Expected Final Version :: Yes ; Genome Coverage :: 100x ; Sequencing Technology :: Illumina HiSeq ; ##Genome-Assembly-Data-END##; ; ##Genome-Annotation-Data-START## ; Annotation Provider :: NCBI ; Annotation Date :: 08/30/2021 16:55:39 ; Annotation Pipeline :: NCBI Prokaryotic Genome Annotation Pipeline (PGAP) ; Annotation Method :: Best-placed reference protein set; GeneMarkS-2+ ; Annotation Software revision :: 5.2 ; Features Annotated :: Gene; CDS; rRNA; tRNA; ncRNA; repeat_region ; Genes (total) :: 5,546 ; CDSs (total) :: 5,434 ; Genes (coding) :: 5,175 ; CDSs (with protein) :: 5,175 ; Genes (RNA) :: 112 ; rRNAs :: 8, 4, 3 (5S, 16S, 23S) ; complete rRNAs :: 6 (5S) ; partial rRNAs :: 2, 4, 3 (5S, 16S, 23S) ; tRNAs :: 89 ; ncRNAs :: 8 ; Pseudo Genes (total) :: 259 ; CDSs (without protein) :: 259 ; Pseudo Genes (ambiguous residues) :: 0 of 259 ; Pseudo Genes (frameshifted) :: 105 of 259 ; Pseudo Genes (incomplete) :: 141 of 259 ; Pseudo Genes (internal stop) :: 61 of 259 ; Pseudo Genes (multiple problems) :: 41 of 259 ; CRISPR Arrays :: 2 ; ##Genome-Annotation-Data-END##</GBSeq_comment>\\n    <GBSeq_feature-table>\\n      <GBFeature>\\n        <GBFeature_key>source</GBFeature_key>\\n        <GBFeature_location>1..173</GBFeature_location>\\n        <GBFeature_intervals>\\n          <GBInterval>\\n            <GBInterval_from>1</GBInterval_from>\\n            <GBInterval_to>173</GBInterval_to>\\n            <GBInterval_accession>JAINTK000000000.1</GBInterval_accession>\\n          </GBInterval>\\n        </GBFeature_intervals>\\n        <GBFeature_quals>\\n          <GBQualifier>\\n            <GBQualifier_name>organism</GBQualifier_name>\\n            <GBQualifier_value>Escherichia coli</GBQualifier_value>\\n          </GBQualifier>\\n          <GBQualifier>\\n            <GBQualifier_name>mol_type</GBQualifier_name>\\n            <GBQualifier_value>genomic DNA</GBQualifier_value>\\n          </GBQualifier>\\n          <GBQualifier>\\n            <GBQualifier_name>strain</GBQualifier_name>\\n            <GBQualifier_value>R133-2</GBQualifier_value>\\n          </GBQualifier>\\n          <GBQualifier>\\n            <GBQualifier_name>isolation_source</GBQualifier_name>\\n            <GBQualifier_value>stool</GBQualifier_value>\\n          </GBQualifier>\\n          <GBQualifier>\\n            <GBQualifier_name>host</GBQualifier_name>\\n            <GBQualifier_value>Homo sapiens</GBQualifier_value>\\n          </GBQualifier>\\n          <GBQualifier>\\n            <GBQualifier_name>db_xref</GBQualifier_name>\\n            <GBQualifier_value>taxon:562</GBQualifier_value>\\n          </GBQualifier>\\n          <GBQualifier>\\n            <GBQualifier_name>country</GBQualifier_name>\\n            <GBQualifier_value>China: Guangzhou City, Guangdong Province</GBQualifier_value>\\n          </GBQualifier>\\n          <GBQualifier>\\n            <GBQualifier_name>collection_date</GBQualifier_name>\\n            <GBQualifier_value>2019-09</GBQualifier_value>\\n          </GBQualifier>\\n        </GBFeature_quals>\\n      </GBFeature>\\n    </GBSeq_feature-table>\\n    <GBSeq_alt-seq>\\n      <GBAltSeqData>\\n        <GBAltSeqData_name>WGS</GBAltSeqData_name>\\n        <GBAltSeqData_items>\\n          <GBAltSeqItem>\\n          <GBAltSeqItem_first-accn>JAINTK010000001</GBAltSeqItem_first-accn>\\n          <GBAltSeqItem_last-accn>JAINTK010000173</GBAltSeqItem_last-accn>\\n          </GBAltSeqItem>\\n        </GBAltSeqData_items>\\n      </GBAltSeqData>\\n    </GBSeq_alt-seq>\\n    <GBSeq_xrefs>\\n      <GBXref>\\n        <GBXref_dbname>BioProject</GBXref_dbname>\\n        <GBXref_id>PRJNA735322</GBXref_id>\\n      </GBXref>\\n      <GBXref>\\n        <GBXref_dbname>BioSample</GBXref_dbname>\\n        <GBXref_id>SAMN19575502</GBXref_id>\\n      </GBXref>\\n    </GBSeq_xrefs>\\n  </GBSeq>\\n\\n</GBSet>\\n'"
      ]
     },
     "execution_count": 73,
     "metadata": {},
     "output_type": "execute_result"
    }
   ],
   "source": [
    "b'<?xml version=\"1.0\" encoding=\"UTF-8\"  ?>\\n<!DOCTYPE GBSet PUBLIC \"-//NCBI//NCBI GBSeq/EN\" \"https://www.ncbi.nlm.nih.gov/dtd/NCBI_GBSeq.dtd\">\\n<GBSet>\\n  <GBSeq>\\n\\n    <GBSeq_locus>JAINTK010000000</GBSeq_locus>\\n    <GBSeq_length>173</GBSeq_length>\\n    <GBSeq_strandedness>double</GBSeq_strandedness>\\n    <GBSeq_moltype>DNA</GBSeq_moltype>\\n    <GBSeq_topology>linear</GBSeq_topology>\\n    <GBSeq_division>BCT</GBSeq_division>\\n    <GBSeq_update-date>04-SEP-2021</GBSeq_update-date>\\n    <GBSeq_create-date>04-SEP-2021</GBSeq_create-date>\\n    <GBSeq_definition>Escherichia coli strain R133-2, whole genome shotgun sequencing project</GBSeq_definition>\\n    <GBSeq_primary-accession>JAINTK000000000</GBSeq_primary-accession>\\n    <GBSeq_accession-version>JAINTK000000000.1</GBSeq_accession-version>\\n    <GBSeq_other-seqids>\\n      <GBSeqid>gb|JAINTK000000000.1|JAINTK010000000</GBSeqid>\\n      <GBSeqid>gi|2089990655</GBSeqid>\\n    </GBSeq_other-seqids>\\n    <GBSeq_project>PRJNA735322</GBSeq_project>\\n    <GBSeq_keywords>\\n      <GBKeyword>WGS</GBKeyword>\\n    </GBSeq_keywords>\\n    <GBSeq_source>Escherichia coli</GBSeq_source>\\n    <GBSeq_organism>Escherichia coli</GBSeq_organism>\\n    <GBSeq_taxonomy>Bacteria; Proteobacteria; Gammaproteobacteria; Enterobacterales; Enterobacteriaceae; Escherichia</GBSeq_taxonomy>\\n    <GBSeq_references>\\n      <GBReference>\\n        <GBReference_reference>1</GBReference_reference>\\n        <GBReference_position>1..173</GBReference_position>\\n        <GBReference_authors>\\n          <GBAuthor>Cui,C.</GBAuthor>\\n        </GBReference_authors>\\n        <GBReference_title>Plasmid-mediated tet(X4)-positive Escherichia coli isolates from clinical settings</GBReference_title>\\n        <GBReference_journal>Unpublished</GBReference_journal>\\n      </GBReference>\\n      <GBReference>\\n        <GBReference_reference>2</GBReference_reference>\\n        <GBReference_position>1..173</GBReference_position>\\n        <GBReference_authors>\\n          <GBAuthor>Cui,C.</GBAuthor>\\n        </GBReference_authors>\\n        <GBReference_title>Direct Submission</GBReference_title>\\n        <GBReference_journal>Submitted (26-AUG-2021) College of Veterinary Medicine, South China Agricultural University, 483 Wushan Street, Guangzhou 510642, China</GBReference_journal>\\n      </GBReference>\\n    </GBSeq_references>\\n    <GBSeq_comment>The Escherichia coli whole genome shotgun (WGS) project has the project accession JAINTK000000000. This version of the project (01) has the accession number JAINTK010000000, and consists of sequences JAINTK010000001-JAINTK010000173.; The annotation was added by the NCBI Prokaryotic Genome Annotation Pipeline (PGAP). Information about PGAP can be found here: https://www.ncbi.nlm.nih.gov/genome/annotation_prok/; ; ##Genome-Assembly-Data-START## ; Assembly Method :: SPAdes v. 3.6.2 ; Genome Representation :: Full ; Expected Final Version :: Yes ; Genome Coverage :: 100x ; Sequencing Technology :: Illumina HiSeq ; ##Genome-Assembly-Data-END##; ; ##Genome-Annotation-Data-START## ; Annotation Provider :: NCBI ; Annotation Date :: 08/30/2021 16:55:39 ; Annotation Pipeline :: NCBI Prokaryotic Genome Annotation Pipeline (PGAP) ; Annotation Method :: Best-placed reference protein set; GeneMarkS-2+ ; Annotation Software revision :: 5.2 ; Features Annotated :: Gene; CDS; rRNA; tRNA; ncRNA; repeat_region ; Genes (total) :: 5,546 ; CDSs (total) :: 5,434 ; Genes (coding) :: 5,175 ; CDSs (with protein) :: 5,175 ; Genes (RNA) :: 112 ; rRNAs :: 8, 4, 3 (5S, 16S, 23S) ; complete rRNAs :: 6 (5S) ; partial rRNAs :: 2, 4, 3 (5S, 16S, 23S) ; tRNAs :: 89 ; ncRNAs :: 8 ; Pseudo Genes (total) :: 259 ; CDSs (without protein) :: 259 ; Pseudo Genes (ambiguous residues) :: 0 of 259 ; Pseudo Genes (frameshifted) :: 105 of 259 ; Pseudo Genes (incomplete) :: 141 of 259 ; Pseudo Genes (internal stop) :: 61 of 259 ; Pseudo Genes (multiple problems) :: 41 of 259 ; CRISPR Arrays :: 2 ; ##Genome-Annotation-Data-END##</GBSeq_comment>\\n    <GBSeq_feature-table>\\n      <GBFeature>\\n        <GBFeature_key>source</GBFeature_key>\\n        <GBFeature_location>1..173</GBFeature_location>\\n        <GBFeature_intervals>\\n          <GBInterval>\\n            <GBInterval_from>1</GBInterval_from>\\n            <GBInterval_to>173</GBInterval_to>\\n            <GBInterval_accession>JAINTK000000000.1</GBInterval_accession>\\n          </GBInterval>\\n        </GBFeature_intervals>\\n        <GBFeature_quals>\\n          <GBQualifier>\\n            <GBQualifier_name>organism</GBQualifier_name>\\n            <GBQualifier_value>Escherichia coli</GBQualifier_value>\\n          </GBQualifier>\\n          <GBQualifier>\\n            <GBQualifier_name>mol_type</GBQualifier_name>\\n            <GBQualifier_value>genomic DNA</GBQualifier_value>\\n          </GBQualifier>\\n          <GBQualifier>\\n            <GBQualifier_name>strain</GBQualifier_name>\\n            <GBQualifier_value>R133-2</GBQualifier_value>\\n          </GBQualifier>\\n          <GBQualifier>\\n            <GBQualifier_name>isolation_source</GBQualifier_name>\\n            <GBQualifier_value>stool</GBQualifier_value>\\n          </GBQualifier>\\n          <GBQualifier>\\n            <GBQualifier_name>host</GBQualifier_name>\\n            <GBQualifier_value>Homo sapiens</GBQualifier_value>\\n          </GBQualifier>\\n          <GBQualifier>\\n            <GBQualifier_name>db_xref</GBQualifier_name>\\n            <GBQualifier_value>taxon:562</GBQualifier_value>\\n          </GBQualifier>\\n          <GBQualifier>\\n            <GBQualifier_name>country</GBQualifier_name>\\n            <GBQualifier_value>China: Guangzhou City, Guangdong Province</GBQualifier_value>\\n          </GBQualifier>\\n          <GBQualifier>\\n            <GBQualifier_name>collection_date</GBQualifier_name>\\n            <GBQualifier_value>2019-09</GBQualifier_value>\\n          </GBQualifier>\\n        </GBFeature_quals>\\n      </GBFeature>\\n    </GBSeq_feature-table>\\n    <GBSeq_alt-seq>\\n      <GBAltSeqData>\\n        <GBAltSeqData_name>WGS</GBAltSeqData_name>\\n        <GBAltSeqData_items>\\n          <GBAltSeqItem>\\n          <GBAltSeqItem_first-accn>JAINTK010000001</GBAltSeqItem_first-accn>\\n          <GBAltSeqItem_last-accn>JAINTK010000173</GBAltSeqItem_last-accn>\\n          </GBAltSeqItem>\\n        </GBAltSeqData_items>\\n      </GBAltSeqData>\\n    </GBSeq_alt-seq>\\n    <GBSeq_xrefs>\\n      <GBXref>\\n        <GBXref_dbname>BioProject</GBXref_dbname>\\n        <GBXref_id>PRJNA735322</GBXref_id>\\n      </GBXref>\\n      <GBXref>\\n        <GBXref_dbname>BioSample</GBXref_dbname>\\n        <GBXref_id>SAMN19575502</GBXref_id>\\n      </GBXref>\\n    </GBSeq_xrefs>\\n  </GBSeq>\\n\\n</GBSet>\\n'"
   ]
  },
  {
   "cell_type": "code",
   "execution_count": 64,
   "id": "5e011699-0def-4b62-8a15-dec8c86b7066",
   "metadata": {},
   "outputs": [
    {
     "data": {
      "text/plain": [
       "{'DbList': ['pubmed', 'protein', 'nuccore', 'ipg', 'nucleotide', 'structure', 'genome', 'annotinfo', 'assembly', 'bioproject', 'biosample', 'blastdbinfo', 'books', 'cdd', 'clinvar', 'gap', 'gapplus', 'grasp', 'dbvar', 'gene', 'gds', 'geoprofiles', 'homologene', 'medgen', 'mesh', 'ncbisearch', 'nlmcatalog', 'omim', 'orgtrack', 'pmc', 'popset', 'proteinclusters', 'pcassay', 'protfam', 'biosystems', 'pccompound', 'pcsubstance', 'seqannot', 'snp', 'sra', 'taxonomy', 'biocollections', 'gtr']}"
      ]
     },
     "execution_count": 64,
     "metadata": {},
     "output_type": "execute_result"
    }
   ],
   "source": [
    "Entrez.read(Entrez.einfo())"
   ]
  },
  {
   "cell_type": "code",
   "execution_count": 1,
   "id": "b68ffb95-e377-42ac-8a71-b023e3f0c8b6",
   "metadata": {},
   "outputs": [],
   "source": [
    "# ================================================================================================="
   ]
  },
  {
   "cell_type": "code",
   "execution_count": 15,
   "id": "508d6368-cba2-41d8-b656-78da8ef817f4",
   "metadata": {},
   "outputs": [],
   "source": [
    "from Bio import Entrez\n",
    "from time import time\n",
    "\n",
    "Entrez.email = \"mkozubov@ucsc.edu\"\n",
    "Entrez.api_key = \"f04c287f2ffac28f06731ba0da09377ec508\"\n",
    "\n",
    "# Task: Get Enterobacterales organisms with genomes from Genomes\n",
    "\n",
    "\n",
    "\n",
    "\n",
    "\n",
    "# Get Enterobacterales txid [esearch]\n",
    "entero_handle = Entrez.esearch(db='genome', term='Enterobacterales',usehistory='y',idtype='acc') #xml handle\n",
    "entero_record = Entrez.read(entero_handle)\n",
    "\n",
    "webenv = entero_record['WebEnv']\n",
    "query_key = entero_record['QueryKey']\n",
    "\n",
    "\n",
    "\n",
    "ecoli_handle = Entrez.esummary(db='genome', id='104601')\n",
    "ecoli_handle = Entrez.read(ecoli_handle)"
   ]
  },
  {
   "cell_type": "code",
   "execution_count": 13,
   "id": "98f9be9d-b933-4ae8-b32c-fa29aec80f85",
   "metadata": {},
   "outputs": [
    {
     "data": {
      "text/plain": [
       "{'Count': '688', 'RetMax': '20', 'RetStart': '0', 'QueryKey': '1', 'WebEnv': 'MCID_61394804988b5c5c5a5ec5ce', 'IdList': ['104601', '104450', '104448', '104414', '104413', '104408', '104064', '103912', '103878', '103871', '103488', '103487', '103486', '103485', '103484', '103334', '103333', '103332', '102946', '101662'], 'TranslationSet': [{'From': 'Enterobacterales', 'To': '\"Enterobacterales\"[Organism]'}], 'TranslationStack': [{'Term': '\"Enterobacterales\"[Organism]', 'Field': 'Organism', 'Count': '688', 'Explode': 'Y'}, 'GROUP'], 'QueryTranslation': '\"Enterobacterales\"[Organism]'}"
      ]
     },
     "execution_count": 13,
     "metadata": {},
     "output_type": "execute_result"
    }
   ],
   "source": [
    "entero_record"
   ]
  },
  {
   "cell_type": "code",
   "execution_count": 14,
   "id": "84713e17-bc65-43a6-87b7-7022150dd735",
   "metadata": {},
   "outputs": [
    {
     "data": {
      "text/plain": [
       "[{'Item': [], 'Id': '104601', 'Organism_Name': 'Citrobacter arsenatis', 'Organism_Kingdom': 'Bacteria', 'DefLine': '', 'ProjectID': '0', 'Number_of_Chromosomes': '1', 'Number_of_Plasmids': '2', 'Number_of_Organelles': '0', 'Assembly_Name': 'ASM435384v1', 'Assembly_Accession': 'GCA_004353845.1', 'AssemblyID': '2347881', 'Create_Date': '2019/03/17 00:00', 'Options': ''}]"
      ]
     },
     "execution_count": 14,
     "metadata": {},
     "output_type": "execute_result"
    }
   ],
   "source": [
    "ecoli_handle"
   ]
  },
  {
   "cell_type": "code",
   "execution_count": 17,
   "id": "b4024abf-2514-491a-8f18-7ab31e394550",
   "metadata": {},
   "outputs": [],
   "source": [
    "import xmltodict"
   ]
  },
  {
   "cell_type": "code",
   "execution_count": null,
   "id": "8119d0dc-26f5-4eed-ac2f-252cd5df8c36",
   "metadata": {},
   "outputs": [],
   "source": []
  }
 ],
 "metadata": {
  "kernelspec": {
   "display_name": "Python 3.8.10 (entrez)",
   "language": "python",
   "name": "entrez"
  },
  "language_info": {
   "codemirror_mode": {
    "name": "ipython",
    "version": 3
   },
   "file_extension": ".py",
   "mimetype": "text/x-python",
   "name": "python",
   "nbconvert_exporter": "python",
   "pygments_lexer": "ipython3",
   "version": "3.8.10"
  }
 },
 "nbformat": 4,
 "nbformat_minor": 5
}
