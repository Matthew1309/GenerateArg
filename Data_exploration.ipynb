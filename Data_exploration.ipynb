{
 "cells": [
  {
   "cell_type": "markdown",
   "id": "31ab2051-ac5a-4857-a3f2-797d9dc6e271",
   "metadata": {},
   "source": [
    "# Just some exploritory data analysis of the generated tRNA data. \n",
    "I am practicing my data preprocessing skills learned in Jeff Heaton's course "
   ]
  },
  {
   "cell_type": "code",
   "execution_count": 121,
   "id": "98e2c65c-38b5-47ee-a7d1-efcf1cd4a863",
   "metadata": {
    "tags": []
   },
   "outputs": [],
   "source": [
    "import pandas as pd\n",
    "pd.set_option('display.max_colwidth', None)\n",
    "pd.set_option('display.max_columns', None)\n",
    "\n",
    "df = pd.read_csv(\"organism_tRNAs.csv\", names=['fasta_accession','tRNA_num','begin','end','length','isotype','anticodon','score','sequence','ss'])\n",
    "df = df[['fasta_accession', 'length', 'isotype', 'anticodon', 'score', 'sequence', 'ss']]"
   ]
  },
  {
   "cell_type": "code",
   "execution_count": 38,
   "id": "abdc41b6-d8e7-4cb7-8a51-798c2cb87764",
   "metadata": {},
   "outputs": [
    {
     "name": "stdout",
     "output_type": "stream",
     "text": [
      "Data with shitty calls: 22709\n",
      "Data with scores > 74 calls: 15873\n",
      "\n",
      "Filtered away 6836 tRNAs\n"
     ]
    },
    {
     "data": {
      "text/html": [
       "<div>\n",
       "<style scoped>\n",
       "    .dataframe tbody tr th:only-of-type {\n",
       "        vertical-align: middle;\n",
       "    }\n",
       "\n",
       "    .dataframe tbody tr th {\n",
       "        vertical-align: top;\n",
       "    }\n",
       "\n",
       "    .dataframe thead th {\n",
       "        text-align: right;\n",
       "    }\n",
       "</style>\n",
       "<table border=\"1\" class=\"dataframe\">\n",
       "  <thead>\n",
       "    <tr style=\"text-align: right;\">\n",
       "      <th></th>\n",
       "      <th>fasta_accession</th>\n",
       "      <th>length</th>\n",
       "      <th>isotype</th>\n",
       "      <th>anticodon</th>\n",
       "      <th>score</th>\n",
       "      <th>sequence</th>\n",
       "      <th>ss</th>\n",
       "    </tr>\n",
       "  </thead>\n",
       "  <tbody>\n",
       "    <tr>\n",
       "      <th>6</th>\n",
       "      <td>NC_004545.1</td>\n",
       "      <td>74</td>\n",
       "      <td>Arg</td>\n",
       "      <td>ACG</td>\n",
       "      <td>75.1</td>\n",
       "      <td>GCATCCGTAGTTCAGTTGGAtAGAGCACTCGGCTACGAACCGAGAGGtCGGAGGTTCAAATCCTTCCGGATGCA</td>\n",
       "      <td>&gt;&gt;&gt;&gt;&gt;&gt;&gt;..&gt;&gt;&gt;&gt;.........&lt;&lt;&lt;&lt;.&gt;&gt;&gt;&gt;&gt;.......&lt;&lt;&lt;&lt;&lt;.....&gt;&gt;&gt;&gt;&gt;.......&lt;&lt;&lt;&lt;&lt;&lt;&lt;&lt;&lt;&lt;&lt;&lt;.</td>\n",
       "    </tr>\n",
       "    <tr>\n",
       "      <th>8</th>\n",
       "      <td>NC_004545.1</td>\n",
       "      <td>73</td>\n",
       "      <td>Ile2</td>\n",
       "      <td>CAT</td>\n",
       "      <td>75.0</td>\n",
       "      <td>GGCCTCTTAGCTCAGTGGTaAGAGCAGGCGACTCATAATCGCTTGGtCGCTGGTTCAAATCCAGCAGGGGCCA</td>\n",
       "      <td>&gt;&gt;&gt;&gt;&gt;&gt;&gt;..&gt;&gt;&gt;&gt;........&lt;&lt;&lt;&lt;.&gt;&gt;&gt;&gt;&gt;.......&lt;&lt;&lt;&lt;&lt;.....&gt;&gt;&gt;&gt;&gt;.......&lt;&lt;&lt;&lt;&lt;&lt;&lt;&lt;&lt;&lt;&lt;&lt;.</td>\n",
       "    </tr>\n",
       "    <tr>\n",
       "      <th>9</th>\n",
       "      <td>NC_004545.1</td>\n",
       "      <td>73</td>\n",
       "      <td>Gly</td>\n",
       "      <td>GCC</td>\n",
       "      <td>77.6</td>\n",
       "      <td>GCGGGAATAGCTCAGTTGGTAGAGTACAACCTTGCCAAGGTTGGGGtCGCGAGTTCAAATCTCGTTTCCCGCT</td>\n",
       "      <td>&gt;&gt;&gt;&gt;&gt;&gt;&gt;..&gt;&gt;&gt;&gt;........&lt;&lt;&lt;&lt;.&gt;&gt;&gt;&gt;&gt;.......&lt;&lt;&lt;&lt;&lt;.....&gt;&gt;&gt;&gt;&gt;.......&lt;&lt;&lt;&lt;&lt;&lt;&lt;&lt;&lt;&lt;&lt;&lt;.</td>\n",
       "    </tr>\n",
       "    <tr>\n",
       "      <th>11</th>\n",
       "      <td>NC_004545.1</td>\n",
       "      <td>74</td>\n",
       "      <td>Arg</td>\n",
       "      <td>CCG</td>\n",
       "      <td>76.0</td>\n",
       "      <td>GCGCTTGTAGCTCAGTTGGAtAGAGCGCTACCCTCCGAAGGTAGAGGcCTCAGGTTCGAATCCTGTCAAGCGCA</td>\n",
       "      <td>&gt;&gt;&gt;&gt;&gt;&gt;&gt;..&gt;&gt;&gt;&gt;.........&lt;&lt;&lt;&lt;.&gt;&gt;&gt;&gt;&gt;.......&lt;&lt;&lt;&lt;&lt;......&gt;&gt;&gt;&gt;.......&lt;&lt;&lt;&lt;.&lt;&lt;&lt;&lt;&lt;&lt;&lt;.</td>\n",
       "    </tr>\n",
       "    <tr>\n",
       "      <th>13</th>\n",
       "      <td>NC_004545.1</td>\n",
       "      <td>74</td>\n",
       "      <td>Pro</td>\n",
       "      <td>TGG</td>\n",
       "      <td>74.4</td>\n",
       "      <td>CGGCGAGTAGCGCAGTTtGGTAGCGCAACTGGTTTGGGACCAGTAGGtCAGAGGTTCAAATCCTCTCTCGCCGA</td>\n",
       "      <td>&gt;&gt;&gt;&gt;&gt;&gt;&gt;..&gt;&gt;&gt;&gt;.........&lt;&lt;&lt;&lt;.&gt;&gt;&gt;&gt;&gt;.......&lt;&lt;&lt;&lt;&lt;.....&gt;&gt;&gt;&gt;&gt;.......&lt;&lt;&lt;&lt;&lt;&lt;&lt;&lt;&lt;&lt;&lt;&lt;.</td>\n",
       "    </tr>\n",
       "  </tbody>\n",
       "</table>\n",
       "</div>"
      ],
      "text/plain": [
       "   fasta_accession  length isotype anticodon  score  \\\n",
       "6      NC_004545.1      74     Arg       ACG   75.1   \n",
       "8      NC_004545.1      73    Ile2       CAT   75.0   \n",
       "9      NC_004545.1      73     Gly       GCC   77.6   \n",
       "11     NC_004545.1      74     Arg       CCG   76.0   \n",
       "13     NC_004545.1      74     Pro       TGG   74.4   \n",
       "\n",
       "                                                                      sequence  \\\n",
       "6   GCATCCGTAGTTCAGTTGGAtAGAGCACTCGGCTACGAACCGAGAGGtCGGAGGTTCAAATCCTTCCGGATGCA   \n",
       "8    GGCCTCTTAGCTCAGTGGTaAGAGCAGGCGACTCATAATCGCTTGGtCGCTGGTTCAAATCCAGCAGGGGCCA   \n",
       "9    GCGGGAATAGCTCAGTTGGTAGAGTACAACCTTGCCAAGGTTGGGGtCGCGAGTTCAAATCTCGTTTCCCGCT   \n",
       "11  GCGCTTGTAGCTCAGTTGGAtAGAGCGCTACCCTCCGAAGGTAGAGGcCTCAGGTTCGAATCCTGTCAAGCGCA   \n",
       "13  CGGCGAGTAGCGCAGTTtGGTAGCGCAACTGGTTTGGGACCAGTAGGtCAGAGGTTCAAATCCTCTCTCGCCGA   \n",
       "\n",
       "                                                                            ss  \n",
       "6   >>>>>>>..>>>>.........<<<<.>>>>>.......<<<<<.....>>>>>.......<<<<<<<<<<<<.  \n",
       "8    >>>>>>>..>>>>........<<<<.>>>>>.......<<<<<.....>>>>>.......<<<<<<<<<<<<.  \n",
       "9    >>>>>>>..>>>>........<<<<.>>>>>.......<<<<<.....>>>>>.......<<<<<<<<<<<<.  \n",
       "11  >>>>>>>..>>>>.........<<<<.>>>>>.......<<<<<......>>>>.......<<<<.<<<<<<<.  \n",
       "13  >>>>>>>..>>>>.........<<<<.>>>>>.......<<<<<.....>>>>>.......<<<<<<<<<<<<.  "
      ]
     },
     "metadata": {},
     "output_type": "display_data"
    }
   ],
   "source": [
    "df_worthy = df[df['score'] > 74]\n",
    "print( f'Data with shitty calls: {df.shape[0]}' )\n",
    "print( f'Data with scores > 74 calls: {df_worthy.shape[0]}\\n' )\n",
    "print( f'Filtered away {df.shape[0] - df_worthy.shape[0]} tRNAs' )\n",
    "display( df_worthy.head() )"
   ]
  },
  {
   "cell_type": "code",
   "execution_count": 39,
   "id": "fe1de249-0350-469b-b485-43326a283fe5",
   "metadata": {},
   "outputs": [
    {
     "name": "stdout",
     "output_type": "stream",
     "text": [
      "82.4 78.4 85.5 74.1 144.6\n"
     ]
    }
   ],
   "source": [
    "score_median = df_worthy['score'].median()\n",
    "score_25 = df_worthy['score'].quantile(0.25)\n",
    "score_75 = df_worthy['score'].quantile(0.75)\n",
    "score_min = df_worthy['score'].min()\n",
    "score_max = df_worthy['score'].max()\n",
    "\n",
    "print(score_median, score_25, score_75, score_min, score_max)"
   ]
  },
  {
   "cell_type": "code",
   "execution_count": 47,
   "id": "abd973ab-2ce7-4ecb-aa9e-830da9193e00",
   "metadata": {},
   "outputs": [],
   "source": [
    "isotypes = {'Asn', 'Pro', 'Ile', 'Gln', 'Ser', 'Phe', 'Met', 'His', 'Asp', 'Tyr', 'Ile2', 'Ala', 'fMet', 'Lys', 'Val', 'Thr', 'SeC', 'Arg', 'Trp', 'Leu', 'Gly'}"
   ]
  },
  {
   "cell_type": "markdown",
   "id": "30c5010f-b8c1-4ee8-a057-7dd606e201c6",
   "metadata": {},
   "source": [
    "# Lets see the distribution of scores for each isotype just for fun :P"
   ]
  },
  {
   "cell_type": "code",
   "execution_count": 50,
   "id": "83ea9abb-e6a4-46e4-988b-154650b6f5f5",
   "metadata": {},
   "outputs": [],
   "source": [
    "global_score_dist = {'min':score_min, '25th':score_25, 'median':score_median, '75th':score_75, 'max':score_max}"
   ]
  },
  {
   "cell_type": "code",
   "execution_count": 75,
   "id": "6f5d4bdd-d682-4f04-ad6c-2befda831a99",
   "metadata": {},
   "outputs": [],
   "source": [
    "isotype_score_dist = {key:{'min':0, '25th':0, 'median':0, '75th':0, 'max':0} for key in isotypes}\n",
    "\n",
    "score_iso_median = df_worthy.groupby('isotype')['score'].median()\n",
    "score_iso_25 = df_worthy.groupby('isotype')['score'].quantile(0.25)\n",
    "score_iso_75 = df_worthy.groupby('isotype')['score'].quantile(0.75)\n",
    "score_iso_min = df_worthy.groupby('isotype')['score'].min()\n",
    "score_iso_max = df_worthy.groupby('isotype')['score'].max()\n",
    "score_iso_counts = df_worthy.groupby('isotype')['score'].count()"
   ]
  },
  {
   "cell_type": "code",
   "execution_count": 122,
   "id": "e8718b2a-e192-4441-bb1b-d95a0d09a9d5",
   "metadata": {},
   "outputs": [
    {
     "data": {
      "text/html": [
       "<div>\n",
       "<style scoped>\n",
       "    .dataframe tbody tr th:only-of-type {\n",
       "        vertical-align: middle;\n",
       "    }\n",
       "\n",
       "    .dataframe tbody tr th {\n",
       "        vertical-align: top;\n",
       "    }\n",
       "\n",
       "    .dataframe thead th {\n",
       "        text-align: right;\n",
       "    }\n",
       "</style>\n",
       "<table border=\"1\" class=\"dataframe\">\n",
       "  <thead>\n",
       "    <tr style=\"text-align: right;\">\n",
       "      <th>isotype</th>\n",
       "      <th>Ala</th>\n",
       "      <th>Arg</th>\n",
       "      <th>Asn</th>\n",
       "      <th>Asp</th>\n",
       "      <th>Gln</th>\n",
       "      <th>Gly</th>\n",
       "      <th>His</th>\n",
       "      <th>Ile</th>\n",
       "      <th>Ile2</th>\n",
       "      <th>Leu</th>\n",
       "      <th>Lys</th>\n",
       "      <th>Met</th>\n",
       "      <th>Phe</th>\n",
       "      <th>Pro</th>\n",
       "      <th>SeC</th>\n",
       "      <th>Ser</th>\n",
       "      <th>Thr</th>\n",
       "      <th>Trp</th>\n",
       "      <th>Tyr</th>\n",
       "      <th>Val</th>\n",
       "      <th>fMet</th>\n",
       "    </tr>\n",
       "  </thead>\n",
       "  <tbody>\n",
       "    <tr>\n",
       "      <th>score_min</th>\n",
       "      <td>74.2</td>\n",
       "      <td>74.3</td>\n",
       "      <td>74.3</td>\n",
       "      <td>75.2</td>\n",
       "      <td>74.8</td>\n",
       "      <td>74.6</td>\n",
       "      <td>74.1</td>\n",
       "      <td>74.8</td>\n",
       "      <td>74.200</td>\n",
       "      <td>74.100</td>\n",
       "      <td>74.3</td>\n",
       "      <td>74.9</td>\n",
       "      <td>74.8</td>\n",
       "      <td>74.1</td>\n",
       "      <td>78.60</td>\n",
       "      <td>74.1</td>\n",
       "      <td>74.4</td>\n",
       "      <td>75.6</td>\n",
       "      <td>74.3</td>\n",
       "      <td>74.3</td>\n",
       "      <td>74.1</td>\n",
       "    </tr>\n",
       "    <tr>\n",
       "      <th>score_25</th>\n",
       "      <td>75.0</td>\n",
       "      <td>82.9</td>\n",
       "      <td>79.7</td>\n",
       "      <td>83.8</td>\n",
       "      <td>75.9</td>\n",
       "      <td>88.4</td>\n",
       "      <td>77.6</td>\n",
       "      <td>75.8</td>\n",
       "      <td>80.925</td>\n",
       "      <td>74.100</td>\n",
       "      <td>93.0</td>\n",
       "      <td>82.9</td>\n",
       "      <td>75.3</td>\n",
       "      <td>82.4</td>\n",
       "      <td>133.90</td>\n",
       "      <td>77.1</td>\n",
       "      <td>79.8</td>\n",
       "      <td>79.9</td>\n",
       "      <td>74.7</td>\n",
       "      <td>82.5</td>\n",
       "      <td>77.5</td>\n",
       "    </tr>\n",
       "    <tr>\n",
       "      <th>score_median</th>\n",
       "      <td>77.4</td>\n",
       "      <td>84.0</td>\n",
       "      <td>79.7</td>\n",
       "      <td>85.5</td>\n",
       "      <td>77.0</td>\n",
       "      <td>88.4</td>\n",
       "      <td>77.6</td>\n",
       "      <td>75.8</td>\n",
       "      <td>82.700</td>\n",
       "      <td>76.000</td>\n",
       "      <td>94.9</td>\n",
       "      <td>82.9</td>\n",
       "      <td>75.3</td>\n",
       "      <td>82.4</td>\n",
       "      <td>137.95</td>\n",
       "      <td>83.4</td>\n",
       "      <td>82.2</td>\n",
       "      <td>80.8</td>\n",
       "      <td>74.7</td>\n",
       "      <td>84.6</td>\n",
       "      <td>77.5</td>\n",
       "    </tr>\n",
       "    <tr>\n",
       "      <th>score_75</th>\n",
       "      <td>80.9</td>\n",
       "      <td>85.1</td>\n",
       "      <td>79.7</td>\n",
       "      <td>87.4</td>\n",
       "      <td>77.1</td>\n",
       "      <td>88.4</td>\n",
       "      <td>77.6</td>\n",
       "      <td>75.8</td>\n",
       "      <td>85.100</td>\n",
       "      <td>78.425</td>\n",
       "      <td>94.9</td>\n",
       "      <td>83.9</td>\n",
       "      <td>75.4</td>\n",
       "      <td>82.4</td>\n",
       "      <td>141.30</td>\n",
       "      <td>84.8</td>\n",
       "      <td>85.1</td>\n",
       "      <td>80.8</td>\n",
       "      <td>74.8</td>\n",
       "      <td>84.6</td>\n",
       "      <td>77.5</td>\n",
       "    </tr>\n",
       "    <tr>\n",
       "      <th>score_max</th>\n",
       "      <td>84.5</td>\n",
       "      <td>95.1</td>\n",
       "      <td>85.1</td>\n",
       "      <td>91.3</td>\n",
       "      <td>77.2</td>\n",
       "      <td>89.6</td>\n",
       "      <td>78.7</td>\n",
       "      <td>85.1</td>\n",
       "      <td>88.300</td>\n",
       "      <td>80.000</td>\n",
       "      <td>97.2</td>\n",
       "      <td>86.9</td>\n",
       "      <td>84.1</td>\n",
       "      <td>83.2</td>\n",
       "      <td>144.60</td>\n",
       "      <td>91.6</td>\n",
       "      <td>91.4</td>\n",
       "      <td>83.6</td>\n",
       "      <td>78.9</td>\n",
       "      <td>92.2</td>\n",
       "      <td>82.2</td>\n",
       "    </tr>\n",
       "    <tr>\n",
       "      <th>score_count</th>\n",
       "      <td>1011.0</td>\n",
       "      <td>1578.0</td>\n",
       "      <td>1036.0</td>\n",
       "      <td>814.0</td>\n",
       "      <td>3.0</td>\n",
       "      <td>1330.0</td>\n",
       "      <td>278.0</td>\n",
       "      <td>525.0</td>\n",
       "      <td>298.000</td>\n",
       "      <td>602.000</td>\n",
       "      <td>1416.0</td>\n",
       "      <td>574.0</td>\n",
       "      <td>505.0</td>\n",
       "      <td>557.0</td>\n",
       "      <td>176.00</td>\n",
       "      <td>1188.0</td>\n",
       "      <td>1079.0</td>\n",
       "      <td>286.0</td>\n",
       "      <td>50.0</td>\n",
       "      <td>1678.0</td>\n",
       "      <td>889.0</td>\n",
       "    </tr>\n",
       "  </tbody>\n",
       "</table>\n",
       "</div>"
      ],
      "text/plain": [
       "isotype          Ala     Arg     Asn    Asp   Gln     Gly    His    Ile  \\\n",
       "score_min       74.2    74.3    74.3   75.2  74.8    74.6   74.1   74.8   \n",
       "score_25        75.0    82.9    79.7   83.8  75.9    88.4   77.6   75.8   \n",
       "score_median    77.4    84.0    79.7   85.5  77.0    88.4   77.6   75.8   \n",
       "score_75        80.9    85.1    79.7   87.4  77.1    88.4   77.6   75.8   \n",
       "score_max       84.5    95.1    85.1   91.3  77.2    89.6   78.7   85.1   \n",
       "score_count   1011.0  1578.0  1036.0  814.0   3.0  1330.0  278.0  525.0   \n",
       "\n",
       "isotype          Ile2      Leu     Lys    Met    Phe    Pro     SeC     Ser  \\\n",
       "score_min      74.200   74.100    74.3   74.9   74.8   74.1   78.60    74.1   \n",
       "score_25       80.925   74.100    93.0   82.9   75.3   82.4  133.90    77.1   \n",
       "score_median   82.700   76.000    94.9   82.9   75.3   82.4  137.95    83.4   \n",
       "score_75       85.100   78.425    94.9   83.9   75.4   82.4  141.30    84.8   \n",
       "score_max      88.300   80.000    97.2   86.9   84.1   83.2  144.60    91.6   \n",
       "score_count   298.000  602.000  1416.0  574.0  505.0  557.0  176.00  1188.0   \n",
       "\n",
       "isotype          Thr    Trp   Tyr     Val   fMet  \n",
       "score_min       74.4   75.6  74.3    74.3   74.1  \n",
       "score_25        79.8   79.9  74.7    82.5   77.5  \n",
       "score_median    82.2   80.8  74.7    84.6   77.5  \n",
       "score_75        85.1   80.8  74.8    84.6   77.5  \n",
       "score_max       91.4   83.6  78.9    92.2   82.2  \n",
       "score_count   1079.0  286.0  50.0  1678.0  889.0  "
      ]
     },
     "execution_count": 122,
     "metadata": {},
     "output_type": "execute_result"
    }
   ],
   "source": [
    "df_score_summary = pd.concat([score_iso_min, score_iso_25, score_iso_median, score_iso_75, score_iso_max, score_iso_counts], axis=1)\n",
    "df_score_summary.columns = ['score_min', 'score_25', 'score_median', 'score_75', 'score_max', 'score_count']\n",
    "df_score_summary = df_score_summary.transpose()\n",
    "df_score_summary"
   ]
  },
  {
   "cell_type": "code",
   "execution_count": 123,
   "id": "664f3cc2-2ae5-4b01-b6be-80e373eb8aa5",
   "metadata": {},
   "outputs": [
    {
     "data": {
      "text/html": [
       "<div>\n",
       "<style scoped>\n",
       "    .dataframe tbody tr th:only-of-type {\n",
       "        vertical-align: middle;\n",
       "    }\n",
       "\n",
       "    .dataframe tbody tr th {\n",
       "        vertical-align: top;\n",
       "    }\n",
       "\n",
       "    .dataframe thead th {\n",
       "        text-align: right;\n",
       "    }\n",
       "</style>\n",
       "<table border=\"1\" class=\"dataframe\">\n",
       "  <thead>\n",
       "    <tr style=\"text-align: right;\">\n",
       "      <th>isotype</th>\n",
       "      <th>Ala</th>\n",
       "      <th>Arg</th>\n",
       "      <th>Asn</th>\n",
       "      <th>Gly</th>\n",
       "      <th>Lys</th>\n",
       "      <th>Ser</th>\n",
       "      <th>Thr</th>\n",
       "      <th>Val</th>\n",
       "    </tr>\n",
       "  </thead>\n",
       "  <tbody>\n",
       "    <tr>\n",
       "      <th>score_min</th>\n",
       "      <td>74.2</td>\n",
       "      <td>74.3</td>\n",
       "      <td>74.3</td>\n",
       "      <td>74.6</td>\n",
       "      <td>74.3</td>\n",
       "      <td>74.1</td>\n",
       "      <td>74.4</td>\n",
       "      <td>74.3</td>\n",
       "    </tr>\n",
       "    <tr>\n",
       "      <th>score_25</th>\n",
       "      <td>75.0</td>\n",
       "      <td>82.9</td>\n",
       "      <td>79.7</td>\n",
       "      <td>88.4</td>\n",
       "      <td>93.0</td>\n",
       "      <td>77.1</td>\n",
       "      <td>79.8</td>\n",
       "      <td>82.5</td>\n",
       "    </tr>\n",
       "    <tr>\n",
       "      <th>score_median</th>\n",
       "      <td>77.4</td>\n",
       "      <td>84.0</td>\n",
       "      <td>79.7</td>\n",
       "      <td>88.4</td>\n",
       "      <td>94.9</td>\n",
       "      <td>83.4</td>\n",
       "      <td>82.2</td>\n",
       "      <td>84.6</td>\n",
       "    </tr>\n",
       "    <tr>\n",
       "      <th>score_75</th>\n",
       "      <td>80.9</td>\n",
       "      <td>85.1</td>\n",
       "      <td>79.7</td>\n",
       "      <td>88.4</td>\n",
       "      <td>94.9</td>\n",
       "      <td>84.8</td>\n",
       "      <td>85.1</td>\n",
       "      <td>84.6</td>\n",
       "    </tr>\n",
       "    <tr>\n",
       "      <th>score_max</th>\n",
       "      <td>84.5</td>\n",
       "      <td>95.1</td>\n",
       "      <td>85.1</td>\n",
       "      <td>89.6</td>\n",
       "      <td>97.2</td>\n",
       "      <td>91.6</td>\n",
       "      <td>91.4</td>\n",
       "      <td>92.2</td>\n",
       "    </tr>\n",
       "    <tr>\n",
       "      <th>score_count</th>\n",
       "      <td>1011.0</td>\n",
       "      <td>1578.0</td>\n",
       "      <td>1036.0</td>\n",
       "      <td>1330.0</td>\n",
       "      <td>1416.0</td>\n",
       "      <td>1188.0</td>\n",
       "      <td>1079.0</td>\n",
       "      <td>1678.0</td>\n",
       "    </tr>\n",
       "  </tbody>\n",
       "</table>\n",
       "</div>"
      ],
      "text/plain": [
       "isotype          Ala     Arg     Asn     Gly     Lys     Ser     Thr     Val\n",
       "score_min       74.2    74.3    74.3    74.6    74.3    74.1    74.4    74.3\n",
       "score_25        75.0    82.9    79.7    88.4    93.0    77.1    79.8    82.5\n",
       "score_median    77.4    84.0    79.7    88.4    94.9    83.4    82.2    84.6\n",
       "score_75        80.9    85.1    79.7    88.4    94.9    84.8    85.1    84.6\n",
       "score_max       84.5    95.1    85.1    89.6    97.2    91.6    91.4    92.2\n",
       "score_count   1011.0  1578.0  1036.0  1330.0  1416.0  1188.0  1079.0  1678.0"
      ]
     },
     "execution_count": 123,
     "metadata": {},
     "output_type": "execute_result"
    }
   ],
   "source": [
    "# Table where the counts are more than 1000\n",
    "df_score_summary.transpose()[df_score_summary.transpose()['score_count'] > 1000].transpose()"
   ]
  },
  {
   "cell_type": "code",
   "execution_count": 107,
   "id": "f1f8ef66-f442-48a4-a915-2ccf522a304f",
   "metadata": {},
   "outputs": [
    {
     "data": {
      "image/png": "[encoded data removed]",
      "text/plain": [
       "<Figure size 936x288 with 1 Axes>"
      ]
     },
     "metadata": {
      "needs_background": "light"
     },
     "output_type": "display_data"
    }
   ],
   "source": [
    "import matplotlib.pyplot as plt\n",
    "import matplotlib.patches as patches\n",
    "\n",
    "boxWidth = 10\n",
    "fig = plt.figure(figsize=(13,4))\n",
    "\n",
    "for x,isotype in enumerate( isotypes ):\n",
    "    y = list(df_score_summary[isotype])[0:-1]\n",
    "    x = [50*x+1 for item in range(len(y))]\n",
    "    \n",
    "    plt.plot(x,y,marker='o',markersize=2,linewidth=0)\n",
    "\n",
    "plt.xticks([50*x+1 for x in range(len(isotypes))],isotypes)\n",
    "plt.show()\n",
    "    "
   ]
  },
  {
   "cell_type": "code",
   "execution_count": 139,
   "id": "ddfc1bfe-1351-48bb-a033-26b9b1f99490",
   "metadata": {},
   "outputs": [],
   "source": [
    "thr_data = list( df_worthy[df_worthy['isotype'] == 'Thr']['score'] )\n",
    "ala_data = list( df_worthy[df_worthy['isotype'] == 'Ala']['score'] )\n",
    "arg_data = list( df_worthy[df_worthy['isotype'] == 'Arg']['score'] )\n",
    "asp_data = list( df_worthy[df_worthy['isotype'] == 'Asp']['score'] )\n",
    "gly_data = list( df_worthy[df_worthy['isotype'] == 'Gly']['score'] )\n",
    "ser_data = list( df_worthy[df_worthy['isotype'] == 'Ser']['score'] )\n",
    "val_data = list( df_worthy[df_worthy['isotype'] == 'Val']['score'] )"
   ]
  },
  {
   "cell_type": "markdown",
   "id": "59280db4-c18a-42b1-87fa-70850162efc8",
   "metadata": {},
   "source": [
    "From this basic analysis I am liking the look of Thr. It looks nearly normally distributed and has over 1000 counts!\n",
    "\n",
    "Wait after actually plotting it, I was lied to! It is distinctly bimodal! Probably one for every isoacceptor.\n"
   ]
  },
  {
   "cell_type": "code",
   "execution_count": 146,
   "id": "146b8f37-fb2b-4079-8203-f54bc64e87f9",
   "metadata": {},
   "outputs": [
    {
     "data": {
      "image/png": "[encoded data removed]",
      "text/plain": [
       "<Figure size 432x288 with 1 Axes>"
      ]
     },
     "metadata": {
      "needs_background": "light"
     },
     "output_type": "display_data"
    }
   ],
   "source": [
    "import matplotlib.pyplot as plt\n",
    "\n",
    "plt.hist(arg_data, bins=15)\n",
    "plt.show()"
   ]
  },
  {
   "cell_type": "markdown",
   "id": "6de78f91-0e05-4de7-991b-6cb1213b0ab2",
   "metadata": {},
   "source": [
    "Well by the looks of it, Arg or Val might be the best in terms of raw score values and also counts. They both have really high counts, which was one of my criteria for them.\n",
    "\n",
    "Now I don't know tRNA biology well enough to right off the bat have an opinion on which one is better to create models on, but Arg is always on the tip of my tongue, so I kinda want to go with that (also its distribution is ever so slightly nicer than Val) :)"
   ]
  },
  {
   "cell_type": "markdown",
   "id": "d5d5e395-0088-447f-8ac6-d2a6bcc0d579",
   "metadata": {},
   "source": [
    "# Lets see how many replicate Arg there are shall we"
   ]
  },
  {
   "cell_type": "code",
   "execution_count": 147,
   "id": "00a4420f-004b-4346-9a18-41c48fd2867b",
   "metadata": {},
   "outputs": [
    {
     "data": {
      "text/plain": [
       "(1578, 7)"
      ]
     },
     "execution_count": 147,
     "metadata": {},
     "output_type": "execute_result"
    }
   ],
   "source": [
    "df_arg = df_worthy[df_worthy['isotype'] == 'Arg']\n",
    "df_arg.shape"
   ]
  },
  {
   "cell_type": "code",
   "execution_count": 151,
   "id": "6efccdcf-1ef6-452a-bf75-824b256dd237",
   "metadata": {},
   "outputs": [
    {
     "data": {
      "text/plain": [
       "133"
      ]
     },
     "execution_count": 151,
     "metadata": {},
     "output_type": "execute_result"
    }
   ],
   "source": [
    "uniqueSeqs = pd.unique(df_arg['sequence'])\n",
    "len(uniqueSeqs)"
   ]
  },
  {
   "cell_type": "markdown",
   "id": "c67b0154-3aee-4e0d-92ce-966b961d7c2c",
   "metadata": {},
   "source": [
    "Wow! look at that! Only 133 unique Arg from this entire set of 1578 tRNAs!!!\n",
    "\n",
    "This doesn't really make sense because I got 405 genomes, each of which should have 1-2 Arg, and I don't expect them to be so similar that they are literally identical!"
   ]
  },
  {
   "cell_type": "code",
   "execution_count": 155,
   "id": "fcfa77ad-2e9e-47d0-92dd-ef086157ef00",
   "metadata": {},
   "outputs": [
    {
     "data": {
      "text/plain": [
       "\"\\nwith open('for_mafft.fa', 'w') as file:\\n    for n, element in enumerate(uniqueSeqs):\\n        fastaLine = f'>{n}\\n{element}\\n'\\n        file.write(fastaLine)\\n\""
      ]
     },
     "execution_count": 155,
     "metadata": {},
     "output_type": "execute_result"
    }
   ],
   "source": [
    "'''\n",
    "with open('for_mafft.fa', 'w') as file:\n",
    "    for n, element in enumerate(uniqueSeqs):\n",
    "        fastaLine = f'>{n}\\n{element}\\n'\n",
    "        file.write(fastaLine)\n",
    "'''"
   ]
  },
  {
   "cell_type": "code",
   "execution_count": 156,
   "id": "bf5aa3d7-0745-490c-92ee-6ce564c12cc8",
   "metadata": {},
   "outputs": [
    {
     "data": {
      "text/plain": [
       "{'ACG', 'CCG', 'TCT'}"
      ]
     },
     "execution_count": 156,
     "metadata": {},
     "output_type": "execute_result"
    }
   ],
   "source": [
    "set(df_arg['anticodon'])"
   ]
  },
  {
   "cell_type": "markdown",
   "id": "7da5314c-599c-4327-bb16-efac781bcf75",
   "metadata": {},
   "source": [
    "# TBH this project probably doomed\n",
    "\n",
    "This may be fun to do, but I literally have 2-5 labelled data points...will that be enough for semi-supervised learning??? I have no idea :)"
   ]
  },
  {
   "cell_type": "code",
   "execution_count": null,
   "id": "da87657a-5bf9-4ffd-a678-9d474226391f",
   "metadata": {},
   "outputs": [],
   "source": []
  }
 ],
 "metadata": {
  "kernelspec": {
   "display_name": "Python 3.8.10 (entrez)",
   "language": "python",
   "name": "entrez"
  },
  "language_info": {
   "codemirror_mode": {
    "name": "ipython",
    "version": 3
   },
   "file_extension": ".py",
   "mimetype": "text/x-python",
   "name": "python",
   "nbconvert_exporter": "python",
   "pygments_lexer": "ipython3",
   "version": "3.8.12"
  }
 },
 "nbformat": 4,
 "nbformat_minor": 5
}
