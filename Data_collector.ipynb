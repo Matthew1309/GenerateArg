{
 "cells": [
  {
   "cell_type": "markdown",
   "id": "2127ce9c-5c66-4a51-a6ea-f7f5d6fcb7ed",
   "metadata": {},
   "source": [
    "# Make several datasets\n",
    "Being my first NLP LSTM neural network, and first neural network in general built from my own data, I don't know how to preprocess the data to make the best model.\n",
    "\n",
    "\n",
    "**Setup**: <br>\n",
    "I have chosen to use Arg (all anticodons) because the distribution of tRNAs with scores 74% and above seemed fairly normal, and there were 1000+ tRNAs from my 400+ genomes.\n",
    "\n",
    "\n",
    "Unfortunately there were only *103 unique Arg tRNAs* in this list of 1000 detected Arg from the Enterobacterales taxon.\n",
    "\n",
    "\n",
    "**Paths forward**:\n",
    "1. I can try to filter and keep only the unique tRNAs to train my LSTM fake tRNA generator. <br>\n",
    "        **Pros**: Gets rid of potential codon biases or over-sequenced groups of Enterobacterales bacteria\n",
    "        **Cons**: Trims my sample size of 1000+ to only 103 sequences...will this be enough data? Without being dumb and simply getting unique tRNAs I don't know how to retain meta data about what organism these tRNAs came from originally.\n",
    "2. I can continue without filtering\n",
    "        **Pros**: I have a sample size of 1000+ Arg tRNAs. Maybe having repeated sequences is a good thing and will train the model to more often than not go with the more \"conserved\" tRNA bases. I retain metadata structure\n",
    "        **Cons**: Can potentially just be artificially inflating my data. The bias introduced might be too much and might not effectively train the model on rarer Arg tRNAs."
   ]
  },
  {
   "cell_type": "markdown",
   "id": "def8f88b-ef01-49b1-86c7-65d1df410ba7",
   "metadata": {},
   "source": [
    "## I kind of want to go with option 2 and just see what happens"
   ]
  },
  {
   "cell_type": "code",
   "execution_count": 1,
   "id": "bcbfe700-959b-466a-bf23-2162f947d474",
   "metadata": {},
   "outputs": [
    {
     "data": {
      "text/plain": [
       "(1894, 7)"
      ]
     },
     "execution_count": 1,
     "metadata": {},
     "output_type": "execute_result"
    }
   ],
   "source": [
    "import pandas as pd\n",
    "import numpy as np\n",
    "\n",
    "df = pd.read_csv(\"organism_tRNAs.csv\", names=['fasta_accession','tRNA_num','begin','end','length','isotype','anticodon','score','sequence','ss'])\n",
    "df = df[['fasta_accession', 'length', 'isotype', 'anticodon', 'score', 'sequence', 'ss']]\n",
    "\n",
    "score_filter = df['score'] > 60\n",
    "arg_filter = df['isotype'] == 'Arg'\n",
    "\n",
    "df_worthy = df[ score_filter & arg_filter ]\n",
    "df_worthy.shape"
   ]
  },
  {
   "cell_type": "markdown",
   "id": "260a81a5-a9ec-4477-b23b-4ec315bbaf8a",
   "metadata": {},
   "source": [
    "## Actual datasets\n",
    "1. All Arg\n",
    "2. All Arg w/ scores > 74\n",
    "3. **Only 1 unique Arg**\n",
    "4. Remove tRNAs found in modomics"
   ]
  },
  {
   "cell_type": "code",
   "execution_count": 2,
   "id": "da1890de-c492-406d-aeb5-90289e65e90e",
   "metadata": {},
   "outputs": [],
   "source": [
    "file_allArg = \"entero_arg.csv\"\n",
    "file_goodArg = \"entero_highscore_arg.csv\"\n",
    "file_uniqueArg = \"entero_unique_arg.csv\""
   ]
  },
  {
   "cell_type": "code",
   "execution_count": 3,
   "id": "6c4fd1a9-d46e-42c4-b289-dbe097198d8d",
   "metadata": {},
   "outputs": [],
   "source": [
    "# File types 1 and 2\n",
    "#df[arg_filter].to_csv(file_allArg, index=False)\n",
    "#df_worthy.to_csv(file_goodArg, index=False)"
   ]
  },
  {
   "cell_type": "code",
   "execution_count": 4,
   "id": "29a4dbf2-1690-48e9-86e8-18748f05166f",
   "metadata": {},
   "outputs": [
    {
     "data": {
      "text/plain": [
       "(228,)"
      ]
     },
     "execution_count": 4,
     "metadata": {},
     "output_type": "execute_result"
    }
   ],
   "source": [
    "df_worthy.groupby('sequence')['sequence'].count().shape"
   ]
  },
  {
   "cell_type": "code",
   "execution_count": 5,
   "id": "a231b98c-3dd1-4333-a74b-62e84c618c28",
   "metadata": {},
   "outputs": [],
   "source": [
    "moreAbundant = df.groupby('sequence')['sequence'].count() > 10\n",
    "moreAbundant = df.groupby('sequence')['sequence'].count()[moreAbundant]\n",
    "filtered = df.sequence.isin(moreAbundant.index)\n",
    "excludingRare = df[filtered]['sequence']"
   ]
  },
  {
   "cell_type": "code",
   "execution_count": 6,
   "id": "588c7efa-227f-4e4c-9be8-bb3955b97ebd",
   "metadata": {},
   "outputs": [
    {
     "name": "stdout",
     "output_type": "stream",
     "text": [
      "(534, 7)\n",
      "(131, 7)\n",
      "(13, 7)\n"
     ]
    }
   ],
   "source": [
    "tRNA_modomics_ecoli1 = 'CATCCGTAGCTCAGCTGGAtAGAGTACTCGGCTACGAACCGAGCGGtCGGAGGTTCGAATCCTCCCGGATGCA'\n",
    "tRNA_modomics_ecoli2 = 'CGCCCGUAGCUCAGCTGGAtAGAGCGCUGCCCTCCGGAGGCAGAGGtCTCAGGTTCGAATCCTGTCGGGCGCG'.replace('U', 'T')\n",
    "tRNA_modomics_ecoli3 = 'CGCCCTTAGCTCAGTTGGAtAGAGCAACGACCTTCTAAGTCGTGGGcCGCAGGTTCGAATCCTGCAGGGCG'.replace('U', 'T')\n",
    "tRNAs_in_modomics = [tRNA_modomics_ecoli1, tRNA_modomics_ecoli2, tRNA_modomics_ecoli3]\n",
    "\n",
    "for tRNA in tRNAs_in_modomics:\n",
    "    print( df_worthy[ df_worthy['sequence'].str.contains(tRNA) ].shape )"
   ]
  },
  {
   "cell_type": "markdown",
   "id": "b546e2a9-cb25-4392-ae1d-8168d0c47766",
   "metadata": {},
   "source": [
    "I think I would like to exclude the first tRNA, just cuz there is a ton of it, so it might introduce more bias, and it seems relatively similar, yet different, from the other two I left in there."
   ]
  },
  {
   "cell_type": "code",
   "execution_count": 10,
   "id": "e53e0704-ef4d-4bac-becc-07a482fa4027",
   "metadata": {},
   "outputs": [],
   "source": [
    "#================================================================\n",
    "#================================================================\n",
    "#================================================================"
   ]
  },
  {
   "cell_type": "code",
   "execution_count": 12,
   "id": "48ce938a-607e-4798-b7d2-9ac1bf3913ce",
   "metadata": {},
   "outputs": [
    {
     "data": {
      "text/plain": [
       "array(['GCATCCGTAGTTCAGTTGGAtAGAGCACTCGGCTACGAACCGAGAGGtCGGAGGTTCAAATCCTTCCGGATGCA',\n",
       "       'GCGCTTGTAGCTCAGTTGGAtAGAGCGCTACCCTCCGAAGGTAGAGGcCTCAGGTTCGAATCCTGTCAAGCGCA',\n",
       "       'GCGCTCTTAGCTCAGATGGAtAGAGCAACGGCCTTCTAAGCCGTAGGtCATAGGTTCGAATCCTATAGAGCGCA',\n",
       "       'GCGCCCTTAGCTCAGTTGGAtAGAGCAACGACCTTCTAAGTCGTGGGcCGCAGGTTCGAATCCTGCAGGGCGCGCCA',\n",
       "       'GTCCTCTTAGTTAAATGGAtATAACGAGCCCCTCCTAAGGGCTAAtTGCAGGTTCGATTCCTGCAGGGGACACCA',\n",
       "       'GCGCCCGTAGCTCAGCTGGAtAGAGCGCTGCCCTCCGGAGGCAGAGGtCTCAGGTTCGAATCCTGTCGGGCGCGCCA',\n",
       "       'GCATCCGTAGCTCAGCTGGAtAGAGTACTCGGCTACGAACCGAGCGGtCGGAGGTTCGAATCCTCCCGGATGCACCA',\n",
       "       'CCACCACTAGCTCATCCGGAtAGAGCATCAACCTTCTAAGTTGACGGtGCGAGGTTCGAGTCCTCGGTGGTGGGCCA',\n",
       "       'GTATCCGTAGCTCAGCTGGAtAGAGTACTCGGCTACGAACCGAGCGGtCGGAGGTTCGAATCCTCCCGGATGCACCA',\n",
       "       'CCACCACTAGCTCATCCGGAtAGAGCATCAACCTTCTAAGTTGACGGtCCGAGGTTCGAGTCCTCGGTGGTGGGCCA'],\n",
       "      dtype=object)"
      ]
     },
     "execution_count": 12,
     "metadata": {},
     "output_type": "execute_result"
    }
   ],
   "source": [
    "df_worthy['sequence'].unique()[0:10]"
   ]
  },
  {
   "cell_type": "code",
   "execution_count": 21,
   "id": "59192393-adf1-4ef5-8aed-7906a8f1533b",
   "metadata": {},
   "outputs": [],
   "source": [
    "def trim_end(tRNA):\n",
    "    if tRNA[-3:] == 'CCA':\n",
    "        return tRNA[:-3]\n",
    "    else:\n",
    "        return tRNA"
   ]
  },
  {
   "cell_type": "code",
   "execution_count": 23,
   "id": "08927ac4-dd4e-43ff-8b8e-e3fb8eece79c",
   "metadata": {},
   "outputs": [
    {
     "name": "stderr",
     "output_type": "stream",
     "text": [
      "/tmp/ipykernel_31097/101513522.py:1: SettingWithCopyWarning: \n",
      "A value is trying to be set on a copy of a slice from a DataFrame.\n",
      "Try using .loc[row_indexer,col_indexer] = value instead\n",
      "\n",
      "See the caveats in the documentation: https://pandas.pydata.org/pandas-docs/stable/user_guide/indexing.html#returning-a-view-versus-a-copy\n",
      "  df_worthy['sequence'] = df_worthy['sequence'].map(trim_end)\n"
     ]
    }
   ],
   "source": [
    "df_worthy['sequence'] = df_worthy['sequence'].map(trim_end)"
   ]
  },
  {
   "cell_type": "code",
   "execution_count": 30,
   "id": "2b189b6a-88e9-4daa-a8c1-77aa46e2f005",
   "metadata": {},
   "outputs": [],
   "source": [
    "with open(file_uniqueArg, 'w') as file:\n",
    "    file.write('# This file contains 224 Enterobacterales Arg tRNAs\\n')\n",
    "    file.write('# I trimmed off the CCA tails and left only unique seqs\\n')\n",
    "    file.write('# I left the lowercase letters (unconserved)\\n')\n",
    "    for item in df_worthy['sequence'].unique():\n",
    "        file.write(f'{item}\\n')"
   ]
  },
  {
   "cell_type": "code",
   "execution_count": null,
   "id": "8bca0ecf-3769-4bb1-86a2-8c00bc48b4ab",
   "metadata": {},
   "outputs": [],
   "source": []
  }
 ],
 "metadata": {
  "kernelspec": {
   "display_name": "Python 3.8.10 (entrez)",
   "language": "python",
   "name": "entrez"
  },
  "language_info": {
   "codemirror_mode": {
    "name": "ipython",
    "version": 3
   },
   "file_extension": ".py",
   "mimetype": "text/x-python",
   "name": "python",
   "nbconvert_exporter": "python",
   "pygments_lexer": "ipython3",
   "version": "3.8.12"
  }
 },
 "nbformat": 4,
 "nbformat_minor": 5
}
