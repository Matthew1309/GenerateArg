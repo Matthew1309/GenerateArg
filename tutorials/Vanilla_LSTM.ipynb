{
 "cells": [
  {
   "cell_type": "code",
   "execution_count": 7,
   "id": "1dee543a-529c-40ce-8a82-7a6e86fd168c",
   "metadata": {},
   "outputs": [
    {
     "name": "stdout",
     "output_type": "stream",
     "text": [
      "Tensor Flow Version: 2.4.0\n",
      "Keras Version: 2.4.0\n",
      "\n",
      "Python 3.8.12 | packaged by conda-forge | (default, Oct 12 2021, 21:59:51) \n",
      "[GCC 9.4.0]\n",
      "Pandas 1.3.3\n",
      "Scikit-Learn 1.0\n",
      "GPU is NOT AVAILABLE\n"
     ]
    },
    {
     "name": "stderr",
     "output_type": "stream",
     "text": [
      "2022-01-22 20:02:12.675512: I tensorflow/compiler/jit/xla_gpu_device.cc:99] Not creating XLA devices, tf_xla_enable_xla_devices not set\n"
     ]
    }
   ],
   "source": [
    "# What version of Python do you have?\n",
    "import sys\n",
    "\n",
    "import tensorflow.keras\n",
    "import pandas as pd\n",
    "import sklearn as sk\n",
    "import tensorflow as tf\n",
    "from tensorflow.keras.preprocessing.sequence import pad_sequences\n",
    "from sklearn.preprocessing import OneHotEncoder\n",
    "\n",
    "import matplotlib.pyplot as plt\n",
    "import matplotlib.patches as patches\n",
    "\n",
    "import pandas as pd\n",
    "import numpy as np\n",
    "\n",
    "# Keras import\n",
    "from tensorflow.keras.callbacks import LambdaCallback\n",
    "from tensorflow.keras.models import Sequential\n",
    "from tensorflow.keras.layers import Dense\n",
    "from tensorflow.keras.layers import LSTM\n",
    "from tensorflow.keras.optimizers import RMSprop\n",
    "from tensorflow.keras.utils import get_file\n",
    "#from tensorflow.python.ops.math_ops import reduce_prod\n",
    "import numpy as np\n",
    "import pandas as pd\n",
    "import random\n",
    "import sys\n",
    "import io\n",
    "import requests\n",
    "import re\n",
    "###########################################################\n",
    "\n",
    "np.random.seed(42)\n",
    "pd.set_option('display.max_rows', 1000)\n",
    "pd.set_option( 'display.max_colwidth', None )\n",
    "\n",
    "print(f\"Tensor Flow Version: {tf.__version__}\")\n",
    "print(f\"Keras Version: {tensorflow.keras.__version__}\")\n",
    "print()\n",
    "print(f\"Python {sys.version}\")\n",
    "print(f\"Pandas {pd.__version__}\")\n",
    "print(f\"Scikit-Learn {sk.__version__}\")\n",
    "print(\"GPU is\", \"available\" if tf.test.is_gpu_available() else \"NOT AVAILABLE\")"
   ]
  },
  {
   "cell_type": "markdown",
   "id": "89b7e16f-a25e-4ef5-8ac1-b57c711cc0ff",
   "metadata": {},
   "source": [
    "# Lesson goal\n",
    "* Understand the architecture of the vanilla LSTM\n",
    "* From memory copy Jeff Heaton's show case of the LSTM.\n",
    "\n",
    "\n",
    "In this particular problem, I want to simulate a car travelling down a road, and it has 1 of 3 colors. Sometimes it will be caught in the first frame, sometimes in the second. Sometimes the car is long. I just want the color returned"
   ]
  },
  {
   "cell_type": "code",
   "execution_count": 293,
   "id": "93fca1f5-b115-45df-822b-43b3d5f2628e",
   "metadata": {},
   "outputs": [],
   "source": [
    "# I need a general function that, given a list and \n",
    "# what categories I expect, generate a one-hot encoding.\n",
    "def make_dummies(sequence, categories=None):\n",
    "    # Given a list \"sequence\" return it one-hot encoded\n",
    "    # This automatically finds all the unique values in\n",
    "    # the input and makes them the categories. Requires\n",
    "    # numpy and pandas as imports\n",
    "    if not categories:\n",
    "        categories = set(np.array(sequence).flatten())\n",
    "    sequence = pd.DataFrame(sequence, \n",
    "                            dtype=pd.CategoricalDtype(categories=categories))\n",
    "    sequence = pd.get_dummies(sequence)\n",
    "    return np.array(sequence)"
   ]
  },
  {
   "cell_type": "code",
   "execution_count": 294,
   "id": "d75de403-1b52-4ec7-ae00-3a3efdae3427",
   "metadata": {},
   "outputs": [
    {
     "data": {
      "text/plain": [
       "array([[1, 0, 0],\n",
       "       [0, 1, 0],\n",
       "       [0, 0, 1]], dtype=uint8)"
      ]
     },
     "execution_count": 294,
     "metadata": {},
     "output_type": "execute_result"
    }
   ],
   "source": [
    "#make_dummies(mock_dataset)\n",
    "\n",
    "mock_dataset = [[0,0,1,1,0],\n",
    "                [0,1,1,1,0],\n",
    "                [2,0,0,0,0],\n",
    "                [0,0,0,2,2],\n",
    "                [0,0,3,3,0],\n",
    "                [2,2,0,0,0],\n",
    "                [0,0,0,2,2],\n",
    "                [3,3,0,0,0],\n",
    "                [2,2,2,0,0],\n",
    "                [0,0,1,0,0]\n",
    "               ]\n",
    "make_dummies([1,5,6])"
   ]
  },
  {
   "cell_type": "code",
   "execution_count": null,
   "id": "d340d213-d644-4b49-b097-b95731ec44ea",
   "metadata": {},
   "outputs": [],
   "source": [
    "# Making the dataset\n",
    "colors = [1,2,3]\n",
    "mock_dataset = [[0,0,1,1,0],\n",
    "                [0,1,1,1,0],\n",
    "                [2,0,0,0,0],\n",
    "                [0,0,0,2,2],\n",
    "                [0,0,3,3,0],\n",
    "                [2,2,0,0,0],\n",
    "                [0,0,0,2,2],\n",
    "                [3,3,0,0,0],\n",
    "                [2,2,2,0,0],\n",
    "                [0,0,1,0,0]\n",
    "               ]\n",
    "\n",
    "mock_dataset = pd.DataFrame(mock_dataset,\n",
    "                           dtype=pd.CategoricalDtype(categories=[0,1,2,3]))\n",
    "mock_dataset = pd.get_dummies(mock_dataset, prefix='timestep')\n",
    "mock_dataset = np.array(mock_dataset).reshape(10, 5, 4)\n",
    "\n",
    "# Making the \"answer key\"\n",
    "mock_y = pd.DataFrame([1,1,2,2,3,2,2,3,2,1],\n",
    "                      columns=['color'],\n",
    "                     dtype=pd.CategoricalDtype(categories=colors))\n",
    "\n",
    "mock_y = pd.get_dummies(mock_y,prefix='color')\n"
   ]
  },
  {
   "cell_type": "code",
   "execution_count": 268,
   "id": "2c3a1c7d-23c7-4053-a0b7-fcc7d9ea1409",
   "metadata": {},
   "outputs": [],
   "source": [
    "# Wow this is super simple to implement\n",
    "model = Sequential()\n",
    "model.add(LSTM(20, input_shape=(5,4)))\n",
    "model.add(Dense(3, activation='softmax'))\n",
    "model.compile(loss='categorical_crossentropy', \n",
    "              optimizer='adam')"
   ]
  },
  {
   "cell_type": "code",
   "execution_count": 269,
   "id": "c7650b99-311a-43eb-82f8-63f59e03a25b",
   "metadata": {},
   "outputs": [
    {
     "name": "stdout",
     "output_type": "stream",
     "text": [
      "Model: \"sequential_12\"\n",
      "_________________________________________________________________\n",
      "Layer (type)                 Output Shape              Param #   \n",
      "=================================================================\n",
      "lstm_12 (LSTM)               (None, 20)                2000      \n",
      "_________________________________________________________________\n",
      "dense_12 (Dense)             (None, 3)                 63        \n",
      "=================================================================\n",
      "Total params: 2,063\n",
      "Trainable params: 2,063\n",
      "Non-trainable params: 0\n",
      "_________________________________________________________________\n"
     ]
    }
   ],
   "source": [
    "model.summary()"
   ]
  },
  {
   "cell_type": "code",
   "execution_count": 270,
   "id": "05703794-4ac8-4bb9-99e4-459402a12019",
   "metadata": {},
   "outputs": [],
   "source": []
  },
  {
   "cell_type": "code",
   "execution_count": 271,
   "id": "0974f838-123e-4911-9ab3-38629a383fb4",
   "metadata": {
    "tags": []
   },
   "outputs": [],
   "source": []
  },
  {
   "cell_type": "code",
   "execution_count": 272,
   "id": "97944b94-f6c1-41b9-bdea-cb6e44e238c6",
   "metadata": {},
   "outputs": [],
   "source": []
  },
  {
   "cell_type": "code",
   "execution_count": 273,
   "id": "266cdc1d-b19b-4a77-b036-ae68aea4bc4f",
   "metadata": {
    "tags": []
   },
   "outputs": [],
   "source": [
    "hist = model.fit(mock_dataset, mock_y, \n",
    "                 epochs=70, verbose=0,\n",
    "                 batch_size=3)"
   ]
  },
  {
   "cell_type": "code",
   "execution_count": 274,
   "id": "3a895b47-f834-460e-8b04-93ed652c294e",
   "metadata": {},
   "outputs": [
    {
     "data": {
      "text/plain": [
       "0.06033936142921448"
      ]
     },
     "execution_count": 274,
     "metadata": {},
     "output_type": "execute_result"
    }
   ],
   "source": [
    "hist.history['loss'][-1]"
   ]
  },
  {
   "cell_type": "code",
   "execution_count": 266,
   "id": "ad9cd40c-d3fc-4050-b523-f261438c57f5",
   "metadata": {
    "tags": []
   },
   "outputs": [
    {
     "data": {
      "text/plain": [
       "array([[0.29320315, 0.6144356 , 0.09236125]], dtype=float32)"
      ]
     },
     "execution_count": 266,
     "metadata": {},
     "output_type": "execute_result"
    }
   ],
   "source": [
    "new_input = [0,0,0,0,2]\n",
    "new_input = np.array(pd.get_dummies(pd.Series(new_input, dtype=pd.CategoricalDtype(categories=[0,1,2,3])))).reshape(1,5,4)\n",
    "yhat = model.predict(new_input)\n",
    "yhat"
   ]
  },
  {
   "cell_type": "code",
   "execution_count": 267,
   "id": "39d41ba5-7813-4fb2-8cc9-4f12ca107def",
   "metadata": {},
   "outputs": [
    {
     "data": {
      "text/plain": [
       "2"
      ]
     },
     "execution_count": 267,
     "metadata": {},
     "output_type": "execute_result"
    }
   ],
   "source": [
    "colors[np.argmax(yhat)]"
   ]
  },
  {
   "cell_type": "code",
   "execution_count": 276,
   "id": "e427dc32-4fe0-4c9d-816f-ba145bc26282",
   "metadata": {},
   "outputs": [
    {
     "data": {
      "text/plain": [
       "[<matplotlib.lines.Line2D at 0x7fb8d50bad30>]"
      ]
     },
     "execution_count": 276,
     "metadata": {},
     "output_type": "execute_result"
    },
    {
     "data": {
      "image/png": "[encoded data removed]",
      "text/plain": [
       "<Figure size 432x288 with 1 Axes>"
      ]
     },
     "metadata": {
      "needs_background": "light"
     },
     "output_type": "display_data"
    }
   ],
   "source": [
    "plt.plot(hist.history['loss'])"
   ]
  },
  {
   "cell_type": "code",
   "execution_count": null,
   "id": "78c05c26-7155-419c-a4e2-7687fca45db9",
   "metadata": {},
   "outputs": [],
   "source": []
  }
 ],
 "metadata": {
  "kernelspec": {
   "display_name": "Python 3.8.12 (tensorflow)",
   "language": "python",
   "name": "tensorflow"
  },
  "language_info": {
   "codemirror_mode": {
    "name": "ipython",
    "version": 3
   },
   "file_extension": ".py",
   "mimetype": "text/x-python",
   "name": "python",
   "nbconvert_exporter": "python",
   "pygments_lexer": "ipython3",
   "version": "3.8.12"
  }
 },
 "nbformat": 4,
 "nbformat_minor": 5
}
