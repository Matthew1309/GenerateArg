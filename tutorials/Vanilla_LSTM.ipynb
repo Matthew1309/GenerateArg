{
 "cells": [
  {
   "cell_type": "code",
   "execution_count": 35,
   "id": "1dee543a-529c-40ce-8a82-7a6e86fd168c",
   "metadata": {
    "jupyter": {
     "source_hidden": true
    },
    "tags": []
   },
   "outputs": [
    {
     "name": "stdout",
     "output_type": "stream",
     "text": [
      "Tensor Flow Version: 2.4.0\n",
      "Keras Version: 2.4.0\n",
      "\n",
      "Python 3.8.12 | packaged by conda-forge | (default, Oct 12 2021, 21:59:51) \n",
      "[GCC 9.4.0]\n",
      "Pandas 1.3.3\n",
      "Scikit-Learn 1.0\n",
      "GPU is NOT AVAILABLE\n"
     ]
    },
    {
     "name": "stderr",
     "output_type": "stream",
     "text": [
      "2022-01-23 10:21:15.652059: I tensorflow/compiler/jit/xla_gpu_device.cc:99] Not creating XLA devices, tf_xla_enable_xla_devices not set\n"
     ]
    }
   ],
   "source": [
    "# What version of Python do you have?\n",
    "import sys\n",
    "\n",
    "import tensorflow.keras\n",
    "import pandas as pd\n",
    "import sklearn as sk\n",
    "import tensorflow as tf\n",
    "from tensorflow.keras.preprocessing.sequence import pad_sequences\n",
    "from sklearn.preprocessing import OneHotEncoder\n",
    "\n",
    "import matplotlib.pyplot as plt\n",
    "import matplotlib.patches as patches\n",
    "\n",
    "import pandas as pd\n",
    "import numpy as np\n",
    "\n",
    "# Keras import\n",
    "from tensorflow.keras.callbacks import LambdaCallback\n",
    "from tensorflow.keras.models import Sequential\n",
    "from tensorflow.keras.layers import Dense\n",
    "from tensorflow.keras.layers import LSTM\n",
    "from tensorflow.keras.optimizers import RMSprop\n",
    "from tensorflow.keras.utils import get_file\n",
    "#from tensorflow.python.ops.math_ops import reduce_prod\n",
    "import numpy as np\n",
    "import pandas as pd\n",
    "import random\n",
    "import sys\n",
    "import io\n",
    "import requests\n",
    "import re\n",
    "\n",
    "# I also want to hide stinky warning boxes, and \n",
    "# this: https://stackoverflow.com/questions/9031783/hide-all-warnings-in-ipython\n",
    "# had some solutions.\n",
    "def hide_warnings():\n",
    "    from IPython.display import HTML\n",
    "    HTML('''<script>\n",
    "    var code_show_err = false; \n",
    "    var code_toggle_err = function() {\n",
    "     var stderrNodes = document.querySelectorAll('[data-mime-type=\"application/vnd.jupyter.stderr\"]')\n",
    "     var stderr = Array.from(stderrNodes)\n",
    "     if (code_show_err){\n",
    "         stderr.forEach(ele => ele.style.display = 'block');\n",
    "     } else {\n",
    "         stderr.forEach(ele => ele.style.display = 'none');\n",
    "     }\n",
    "     code_show_err = !code_show_err\n",
    "    } \n",
    "    document.addEventListener('DOMContentLoaded', code_toggle_err);\n",
    "    </script>\n",
    "    To toggle on/off output_stderr, click <a onclick=\"javascript:code_toggle_err()\">here</a>.''')\n",
    "###########################################################\n",
    "\n",
    "np.random.seed(42)\n",
    "pd.set_option('display.max_rows', 1000)\n",
    "pd.set_option( 'display.max_colwidth', None )\n",
    "\n",
    "print(f\"Tensor Flow Version: {tf.__version__}\")\n",
    "print(f\"Keras Version: {tensorflow.keras.__version__}\")\n",
    "print()\n",
    "print(f\"Python {sys.version}\")\n",
    "print(f\"Pandas {pd.__version__}\")\n",
    "print(f\"Scikit-Learn {sk.__version__}\")\n",
    "print(\"GPU is\", \"available\" if tf.test.is_gpu_available() else \"NOT AVAILABLE\")\n",
    "hide_warnings()"
   ]
  },
  {
   "cell_type": "markdown",
   "id": "89b7e16f-a25e-4ef5-8ac1-b57c711cc0ff",
   "metadata": {},
   "source": [
    "# Lesson goal\n",
    "* Understand the architecture of the vanilla LSTM\n",
    "* From memory copy Jeff Heaton's show case of the LSTM.\n",
    "\n",
    "\n",
    "In this particular problem, I want to simulate a car travelling down a road, and it has 1 of 3 colors. Sometimes it will be caught in the first frame, sometimes in the second. Sometimes the car is long. I just want the color returned"
   ]
  },
  {
   "cell_type": "code",
   "execution_count": 30,
   "id": "93fca1f5-b115-45df-822b-43b3d5f2628e",
   "metadata": {
    "tags": []
   },
   "outputs": [],
   "source": [
    "# I need a general function that, given a list and \n",
    "# what categories I expect, generate a one-hot encoding.\n",
    "def make_dummies(sequence, categories=None):\n",
    "    # Given a list \"sequence\" return it one-hot encoded\n",
    "    # This automatically finds all the unique values in\n",
    "    # the input and makes them the categories. Requires\n",
    "    # numpy and pandas as imports\n",
    "    if not categories:\n",
    "        categories = set(np.array(sequence).flatten())\n",
    "    sequence = pd.DataFrame(sequence, \n",
    "                            dtype=pd.CategoricalDtype(categories=categories))\n",
    "    sequence = pd.get_dummies(sequence)\n",
    "    return np.array(sequence)"
   ]
  },
  {
   "cell_type": "code",
   "execution_count": 10,
   "id": "d340d213-d644-4b49-b097-b95731ec44ea",
   "metadata": {},
   "outputs": [],
   "source": [
    "# Making the dataset\n",
    "colors = [1,2,3]\n",
    "mock_dataset = [[0,0,1,1,0],\n",
    "                [0,1,1,1,0],\n",
    "                [2,0,0,0,0],\n",
    "                [0,0,0,2,2],\n",
    "                [0,0,3,3,0],\n",
    "                [2,2,0,0,0],\n",
    "                [0,0,0,2,2],\n",
    "                [3,3,0,0,0],\n",
    "                [2,2,2,0,0],\n",
    "                [0,0,1,0,0]\n",
    "               ]\n",
    "mock_dataset = make_dummies(mock_dataset).reshape(10, 5, 4)\n",
    "\n",
    "# Making the \"answer key\"\n",
    "mock_y = [1,1,2,2,3,2,2,3,2,1]\n",
    "mock_y = make_dummies(mock_y,categories=colors).reshape(10,3)"
   ]
  },
  {
   "cell_type": "code",
   "execution_count": 19,
   "id": "8314bfd7-fee1-494b-a969-496be1306e8e",
   "metadata": {},
   "outputs": [
    {
     "name": "stdout",
     "output_type": "stream",
     "text": [
      "Dataset input\n"
     ]
    },
    {
     "data": {
      "text/plain": [
       "array([[[1, 0, 0, 0],\n",
       "        [1, 0, 0, 0],\n",
       "        [0, 1, 0, 0],\n",
       "        [0, 1, 0, 0],\n",
       "        [1, 0, 0, 0]],\n",
       "\n",
       "       [[1, 0, 0, 0],\n",
       "        [0, 1, 0, 0],\n",
       "        [0, 1, 0, 0],\n",
       "        [0, 1, 0, 0],\n",
       "        [1, 0, 0, 0]]], dtype=uint8)"
      ]
     },
     "metadata": {},
     "output_type": "display_data"
    },
    {
     "name": "stdout",
     "output_type": "stream",
     "text": [
      "\n",
      "Dataset checkup\n"
     ]
    },
    {
     "data": {
      "text/plain": [
       "array([[1, 0, 0],\n",
       "       [1, 0, 0],\n",
       "       [0, 1, 0],\n",
       "       [0, 1, 0],\n",
       "       [0, 0, 1]], dtype=uint8)"
      ]
     },
     "metadata": {},
     "output_type": "display_data"
    }
   ],
   "source": [
    "print(\"Dataset input\")\n",
    "display(mock_dataset[0:2,:,:])\n",
    "print('\\nDataset checkup')\n",
    "display(mock_y[0:5])"
   ]
  },
  {
   "cell_type": "code",
   "execution_count": 33,
   "id": "2c3a1c7d-23c7-4053-a0b7-fcc7d9ea1409",
   "metadata": {},
   "outputs": [],
   "source": [
    "# Wow this is super simple to implement\n",
    "model = Sequential()\n",
    "# I just chose 20 randomly\n",
    "model.add(LSTM(20, input_shape=(5,4)))\n",
    "# I have 3 color outputs\n",
    "model.add(Dense(3, activation='softmax'))\n",
    "# Chose categorical_crossentropy because I have more than\n",
    "# two classes. This is multinomial. The optimizer seems\n",
    "# like it doesn't super super matter here.\n",
    "model.compile(loss='categorical_crossentropy', \n",
    "              optimizer='adam')"
   ]
  },
  {
   "cell_type": "code",
   "execution_count": 21,
   "id": "c7650b99-311a-43eb-82f8-63f59e03a25b",
   "metadata": {},
   "outputs": [
    {
     "name": "stdout",
     "output_type": "stream",
     "text": [
      "Model: \"sequential\"\n",
      "_________________________________________________________________\n",
      "Layer (type)                 Output Shape              Param #   \n",
      "=================================================================\n",
      "lstm (LSTM)                  (None, 20)                2000      \n",
      "_________________________________________________________________\n",
      "dense (Dense)                (None, 3)                 63        \n",
      "=================================================================\n",
      "Total params: 2,063\n",
      "Trainable params: 2,063\n",
      "Non-trainable params: 0\n",
      "_________________________________________________________________\n"
     ]
    }
   ],
   "source": [
    "model.summary()"
   ]
  },
  {
   "cell_type": "code",
   "execution_count": 34,
   "id": "266cdc1d-b19b-4a77-b036-ae68aea4bc4f",
   "metadata": {
    "tags": []
   },
   "outputs": [
    {
     "data": {
      "text/plain": [
       "0.0931914821267128"
      ]
     },
     "execution_count": 34,
     "metadata": {},
     "output_type": "execute_result"
    }
   ],
   "source": [
    "# Train the model on our data!\n",
    "hist = model.fit(mock_dataset, mock_y, \n",
    "                 epochs=70, verbose=0,\n",
    "                 batch_size=3)\n",
    "hist.history['loss'][-1]\n",
    "# a loss of 0.093 is very good, but\n",
    "# slightly conserning that it is overfit.\n",
    "# Lets test it!"
   ]
  },
  {
   "cell_type": "code",
   "execution_count": 62,
   "id": "ad9cd40c-d3fc-4050-b523-f261438c57f5",
   "metadata": {
    "tags": []
   },
   "outputs": [
    {
     "data": {
      "text/plain": [
       "'Raw LSTM output'"
      ]
     },
     "metadata": {},
     "output_type": "display_data"
    },
    {
     "data": {
      "text/plain": [
       "array([[0.15906216, 0.19738959, 0.64354825]], dtype=float32)"
      ]
     },
     "metadata": {},
     "output_type": "display_data"
    },
    {
     "name": "stdout",
     "output_type": "stream",
     "text": [
      "\n",
      "\n",
      "Predicted color value:  3\n"
     ]
    }
   ],
   "source": [
    "# Make up a new input that the model hasn't seen\n",
    "# and see if it performs well!\n",
    "new_input = [0,3,0,0,0]\n",
    "new_input = make_dummies(new_input, categories=[0,1,2,3]).reshape(1,5,4)\n",
    "yhat = model.predict(new_input)\n",
    "display(\"Raw LSTM output\",yhat)\n",
    "print(\"\\n\\nPredicted color value: \",colors[np.argmax(yhat)])"
   ]
  },
  {
   "cell_type": "code",
   "execution_count": 36,
   "id": "e427dc32-4fe0-4c9d-816f-ba145bc26282",
   "metadata": {},
   "outputs": [
    {
     "data": {
      "text/plain": [
       "[<matplotlib.lines.Line2D at 0x7f1a5444cee0>]"
      ]
     },
     "execution_count": 36,
     "metadata": {},
     "output_type": "execute_result"
    },
    {
     "data": {
      "image/png": "[encoded data removed]",
      "text/plain": [
       "<Figure size 432x288 with 1 Axes>"
      ]
     },
     "metadata": {
      "needs_background": "light"
     },
     "output_type": "display_data"
    }
   ],
   "source": [
    "plt.plot(hist.history['loss'])"
   ]
  }
 ],
 "metadata": {
  "kernelspec": {
   "display_name": "Python 3.8.12 (tensorflow)",
   "language": "python",
   "name": "tensorflow"
  },
  "language_info": {
   "codemirror_mode": {
    "name": "ipython",
    "version": 3
   },
   "file_extension": ".py",
   "mimetype": "text/x-python",
   "name": "python",
   "nbconvert_exporter": "python",
   "pygments_lexer": "ipython3",
   "version": "3.8.12"
  }
 },
 "nbformat": 4,
 "nbformat_minor": 5
}
