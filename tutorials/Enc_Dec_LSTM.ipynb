{
 "cells": [
  {
   "cell_type": "code",
   "execution_count": 2,
   "id": "6633734d-6e5b-4936-85a8-15e054ac7630",
   "metadata": {},
   "outputs": [
    {
     "name": "stdout",
     "output_type": "stream",
     "text": [
      "Tensor Flow Version: 2.4.0\n"
     ]
    }
   ],
   "source": [
    "# Necessary neural net imports\n",
    "import tensorflow as tf\n",
    "from tensorflow.keras.models import Sequential\n",
    "from tensorflow.keras.layers import LSTM\n",
    "from tensorflow.keras.layers import Dense\n",
    "from tensorflow.keras import activations\n",
    "\n",
    "# Necessary number manip\n",
    "import numpy as np\n",
    "import pandas as pd\n",
    "import math\n",
    "import random as rand\n",
    "\n",
    "# Necessary plotting imports\n",
    "import matplotlib.pyplot as plt\n",
    "import matplotlib.patches as patches\n",
    "\n",
    "# I also want to hide stinky warning boxes, and \n",
    "# this: https://stackoverflow.com/questions/9031783/hide-all-warnings-in-ipython\n",
    "# had some solutions.\n",
    "def hide_warnings():\n",
    "    from IPython.display import HTML\n",
    "    HTML('''<script>\n",
    "    var code_show_err = false; \n",
    "    var code_toggle_err = function() {\n",
    "     var stderrNodes = document.querySelectorAll('[data-mime-type=\"application/vnd.jupyter.stderr\"]')\n",
    "     var stderr = Array.from(stderrNodes)\n",
    "     if (code_show_err){\n",
    "         stderr.forEach(ele => ele.style.display = 'block');\n",
    "     } else {\n",
    "         stderr.forEach(ele => ele.style.display = 'none');\n",
    "     }\n",
    "     code_show_err = !code_show_err\n",
    "    } \n",
    "    document.addEventListener('DOMContentLoaded', code_toggle_err);\n",
    "    </script>\n",
    "    To toggle on/off output_stderr, click <a onclick=\"javascript:code_toggle_err()\">here</a>.''')\n",
    "    \n",
    "hide_warnings()\n",
    "###########################################################\n",
    "print(f\"Tensor Flow Version: {tf.__version__}\")\n"
   ]
  },
  {
   "cell_type": "code",
   "execution_count": null,
   "id": "ea145499-cea7-46cd-a863-c1fe6ca51518",
   "metadata": {},
   "outputs": [],
   "source": []
  }
 ],
 "metadata": {
  "kernelspec": {
   "display_name": "Python 3.8.12 (tensorflow)",
   "language": "python",
   "name": "tensorflow"
  },
  "language_info": {
   "codemirror_mode": {
    "name": "ipython",
    "version": 3
   },
   "file_extension": ".py",
   "mimetype": "text/x-python",
   "name": "python",
   "nbconvert_exporter": "python",
   "pygments_lexer": "ipython3",
   "version": "3.8.12"
  }
 },
 "nbformat": 4,
 "nbformat_minor": 5
}
